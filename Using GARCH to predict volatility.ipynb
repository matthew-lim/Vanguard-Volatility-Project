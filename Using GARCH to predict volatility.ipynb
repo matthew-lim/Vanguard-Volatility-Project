{
 "cells": [
  {
   "cell_type": "code",
   "execution_count": 1,
   "metadata": {},
   "outputs": [],
   "source": [
    "import numpy as np\n",
    "import pandas as pd\n",
    "import matplotlib.pyplot as plt\n",
    "from arch import arch_model\n",
    "from arch.__future__ import reindexing"
   ]
  },
  {
   "cell_type": "code",
   "execution_count": 2,
   "metadata": {},
   "outputs": [],
   "source": [
    "df = pd.read_csv(\"Data/cleaned_data.csv\")"
   ]
  },
  {
   "cell_type": "code",
   "execution_count": 3,
   "metadata": {},
   "outputs": [
    {
     "data": {
      "text/plain": [
       "array(['AAPL.O', 'ADBE.O', 'ADI.O', 'ADP.O', 'ADSK.O'], dtype=object)"
      ]
     },
     "execution_count": 3,
     "metadata": {},
     "output_type": "execute_result"
    }
   ],
   "source": [
    "l_company = df[\"RIC\"].unique()\n",
    "l_company[:5]"
   ]
  },
  {
   "cell_type": "code",
   "execution_count": 4,
   "metadata": {},
   "outputs": [
    {
     "data": {
      "text/html": [
       "<div>\n",
       "<style scoped>\n",
       "    .dataframe tbody tr th:only-of-type {\n",
       "        vertical-align: middle;\n",
       "    }\n",
       "\n",
       "    .dataframe tbody tr th {\n",
       "        vertical-align: top;\n",
       "    }\n",
       "\n",
       "    .dataframe thead th {\n",
       "        text-align: right;\n",
       "    }\n",
       "</style>\n",
       "<table border=\"1\" class=\"dataframe\">\n",
       "  <thead>\n",
       "    <tr style=\"text-align: right;\">\n",
       "      <th></th>\n",
       "      <th>Unnamed: 0</th>\n",
       "      <th>BarTime</th>\n",
       "      <th>Date</th>\n",
       "      <th>Time</th>\n",
       "      <th>RIC</th>\n",
       "      <th>Open</th>\n",
       "      <th>High</th>\n",
       "      <th>Low</th>\n",
       "      <th>Close</th>\n",
       "      <th>VWAP</th>\n",
       "      <th>NumberOfTrades</th>\n",
       "      <th>Volume</th>\n",
       "    </tr>\n",
       "  </thead>\n",
       "  <tbody>\n",
       "    <tr>\n",
       "      <th>390</th>\n",
       "      <td>390</td>\n",
       "      <td>2020-09-02 13:30:00+00:00</td>\n",
       "      <td>2020-09-02</td>\n",
       "      <td>09:30:00</td>\n",
       "      <td>AAPL.O</td>\n",
       "      <td>137.6000</td>\n",
       "      <td>137.9800</td>\n",
       "      <td>136.00</td>\n",
       "      <td>136.0600</td>\n",
       "      <td>137.296</td>\n",
       "      <td>9662</td>\n",
       "      <td>5903852.0</td>\n",
       "    </tr>\n",
       "    <tr>\n",
       "      <th>391</th>\n",
       "      <td>391</td>\n",
       "      <td>2020-09-02 13:31:00+00:00</td>\n",
       "      <td>2020-09-02</td>\n",
       "      <td>09:31:00</td>\n",
       "      <td>AAPL.O</td>\n",
       "      <td>136.0700</td>\n",
       "      <td>136.6200</td>\n",
       "      <td>134.35</td>\n",
       "      <td>134.8856</td>\n",
       "      <td>135.206</td>\n",
       "      <td>18060</td>\n",
       "      <td>4249135.0</td>\n",
       "    </tr>\n",
       "    <tr>\n",
       "      <th>392</th>\n",
       "      <td>392</td>\n",
       "      <td>2020-09-02 13:32:00+00:00</td>\n",
       "      <td>2020-09-02</td>\n",
       "      <td>09:32:00</td>\n",
       "      <td>AAPL.O</td>\n",
       "      <td>134.8867</td>\n",
       "      <td>135.0303</td>\n",
       "      <td>133.50</td>\n",
       "      <td>134.6898</td>\n",
       "      <td>134.234</td>\n",
       "      <td>11720</td>\n",
       "      <td>2780982.0</td>\n",
       "    </tr>\n",
       "    <tr>\n",
       "      <th>393</th>\n",
       "      <td>393</td>\n",
       "      <td>2020-09-02 13:33:00+00:00</td>\n",
       "      <td>2020-09-02</td>\n",
       "      <td>09:33:00</td>\n",
       "      <td>AAPL.O</td>\n",
       "      <td>134.6800</td>\n",
       "      <td>135.3000</td>\n",
       "      <td>134.39</td>\n",
       "      <td>135.1800</td>\n",
       "      <td>134.938</td>\n",
       "      <td>6111</td>\n",
       "      <td>1468833.0</td>\n",
       "    </tr>\n",
       "    <tr>\n",
       "      <th>394</th>\n",
       "      <td>394</td>\n",
       "      <td>2020-09-02 13:34:00+00:00</td>\n",
       "      <td>2020-09-02</td>\n",
       "      <td>09:34:00</td>\n",
       "      <td>AAPL.O</td>\n",
       "      <td>135.1900</td>\n",
       "      <td>135.4500</td>\n",
       "      <td>135.03</td>\n",
       "      <td>135.2746</td>\n",
       "      <td>135.258</td>\n",
       "      <td>5674</td>\n",
       "      <td>1437657.0</td>\n",
       "    </tr>\n",
       "    <tr>\n",
       "      <th>...</th>\n",
       "      <td>...</td>\n",
       "      <td>...</td>\n",
       "      <td>...</td>\n",
       "      <td>...</td>\n",
       "      <td>...</td>\n",
       "      <td>...</td>\n",
       "      <td>...</td>\n",
       "      <td>...</td>\n",
       "      <td>...</td>\n",
       "      <td>...</td>\n",
       "      <td>...</td>\n",
       "      <td>...</td>\n",
       "    </tr>\n",
       "    <tr>\n",
       "      <th>775</th>\n",
       "      <td>775</td>\n",
       "      <td>2020-09-02 19:55:00+00:00</td>\n",
       "      <td>2020-09-02</td>\n",
       "      <td>15:55:00</td>\n",
       "      <td>AAPL.O</td>\n",
       "      <td>131.7800</td>\n",
       "      <td>131.8000</td>\n",
       "      <td>131.30</td>\n",
       "      <td>131.3101</td>\n",
       "      <td>131.502</td>\n",
       "      <td>2803</td>\n",
       "      <td>568062.0</td>\n",
       "    </tr>\n",
       "    <tr>\n",
       "      <th>776</th>\n",
       "      <td>776</td>\n",
       "      <td>2020-09-02 19:56:00+00:00</td>\n",
       "      <td>2020-09-02</td>\n",
       "      <td>15:56:00</td>\n",
       "      <td>AAPL.O</td>\n",
       "      <td>131.3100</td>\n",
       "      <td>131.5000</td>\n",
       "      <td>131.30</td>\n",
       "      <td>131.4300</td>\n",
       "      <td>131.382</td>\n",
       "      <td>2675</td>\n",
       "      <td>549190.0</td>\n",
       "    </tr>\n",
       "    <tr>\n",
       "      <th>777</th>\n",
       "      <td>777</td>\n",
       "      <td>2020-09-02 19:57:00+00:00</td>\n",
       "      <td>2020-09-02</td>\n",
       "      <td>15:57:00</td>\n",
       "      <td>AAPL.O</td>\n",
       "      <td>131.4200</td>\n",
       "      <td>131.6200</td>\n",
       "      <td>131.33</td>\n",
       "      <td>131.5380</td>\n",
       "      <td>131.506</td>\n",
       "      <td>2694</td>\n",
       "      <td>494083.0</td>\n",
       "    </tr>\n",
       "    <tr>\n",
       "      <th>778</th>\n",
       "      <td>778</td>\n",
       "      <td>2020-09-02 19:58:00+00:00</td>\n",
       "      <td>2020-09-02</td>\n",
       "      <td>15:58:00</td>\n",
       "      <td>AAPL.O</td>\n",
       "      <td>131.5300</td>\n",
       "      <td>131.7400</td>\n",
       "      <td>131.47</td>\n",
       "      <td>131.6629</td>\n",
       "      <td>131.657</td>\n",
       "      <td>3230</td>\n",
       "      <td>589262.0</td>\n",
       "    </tr>\n",
       "    <tr>\n",
       "      <th>779</th>\n",
       "      <td>779</td>\n",
       "      <td>2020-09-02 19:59:00+00:00</td>\n",
       "      <td>2020-09-02</td>\n",
       "      <td>15:59:00</td>\n",
       "      <td>AAPL.O</td>\n",
       "      <td>131.6700</td>\n",
       "      <td>131.7900</td>\n",
       "      <td>131.18</td>\n",
       "      <td>131.2200</td>\n",
       "      <td>131.592</td>\n",
       "      <td>6819</td>\n",
       "      <td>1295126.0</td>\n",
       "    </tr>\n",
       "  </tbody>\n",
       "</table>\n",
       "<p>390 rows × 12 columns</p>\n",
       "</div>"
      ],
      "text/plain": [
       "     Unnamed: 0                    BarTime        Date      Time     RIC  \\\n",
       "390         390  2020-09-02 13:30:00+00:00  2020-09-02  09:30:00  AAPL.O   \n",
       "391         391  2020-09-02 13:31:00+00:00  2020-09-02  09:31:00  AAPL.O   \n",
       "392         392  2020-09-02 13:32:00+00:00  2020-09-02  09:32:00  AAPL.O   \n",
       "393         393  2020-09-02 13:33:00+00:00  2020-09-02  09:33:00  AAPL.O   \n",
       "394         394  2020-09-02 13:34:00+00:00  2020-09-02  09:34:00  AAPL.O   \n",
       "..          ...                        ...         ...       ...     ...   \n",
       "775         775  2020-09-02 19:55:00+00:00  2020-09-02  15:55:00  AAPL.O   \n",
       "776         776  2020-09-02 19:56:00+00:00  2020-09-02  15:56:00  AAPL.O   \n",
       "777         777  2020-09-02 19:57:00+00:00  2020-09-02  15:57:00  AAPL.O   \n",
       "778         778  2020-09-02 19:58:00+00:00  2020-09-02  15:58:00  AAPL.O   \n",
       "779         779  2020-09-02 19:59:00+00:00  2020-09-02  15:59:00  AAPL.O   \n",
       "\n",
       "         Open      High     Low     Close     VWAP  NumberOfTrades     Volume  \n",
       "390  137.6000  137.9800  136.00  136.0600  137.296            9662  5903852.0  \n",
       "391  136.0700  136.6200  134.35  134.8856  135.206           18060  4249135.0  \n",
       "392  134.8867  135.0303  133.50  134.6898  134.234           11720  2780982.0  \n",
       "393  134.6800  135.3000  134.39  135.1800  134.938            6111  1468833.0  \n",
       "394  135.1900  135.4500  135.03  135.2746  135.258            5674  1437657.0  \n",
       "..        ...       ...     ...       ...      ...             ...        ...  \n",
       "775  131.7800  131.8000  131.30  131.3101  131.502            2803   568062.0  \n",
       "776  131.3100  131.5000  131.30  131.4300  131.382            2675   549190.0  \n",
       "777  131.4200  131.6200  131.33  131.5380  131.506            2694   494083.0  \n",
       "778  131.5300  131.7400  131.47  131.6629  131.657            3230   589262.0  \n",
       "779  131.6700  131.7900  131.18  131.2200  131.592            6819  1295126.0  \n",
       "\n",
       "[390 rows x 12 columns]"
      ]
     },
     "execution_count": 4,
     "metadata": {},
     "output_type": "execute_result"
    }
   ],
   "source": [
    "df_AAPL_210902 = df.loc[df.RIC == \"AAPL.O\"].loc[df.Date == '2020-09-02']\n",
    "df_AAPL_210902"
   ]
  },
  {
   "cell_type": "code",
   "execution_count": 5,
   "metadata": {},
   "outputs": [
    {
     "data": {
      "image/png": "[encoded data removed]",
      "text/plain": [
       "<Figure size 432x288 with 1 Axes>"
      ]
     },
     "metadata": {
      "needs_background": "light"
     },
     "output_type": "display_data"
    }
   ],
   "source": [
    "close = pd.Series(df_AAPL_210902.Close.values, index=df_AAPL_210902.Time)\n",
    "\n",
    "# plot the price chart\n",
    "fig, ax = plt.subplots (1,1, figsize=(6,4))\n",
    "ax.plot(close)\n",
    "\n",
    "spacing = 60\n",
    "visible = ax.xaxis.get_ticklabels()[::spacing]\n",
    "for label in ax.xaxis.get_ticklabels():\n",
    "    if label not in visible:\n",
    "        label.set_visible(False)\n",
    "\n",
    "plt.show()"
   ]
  },
  {
   "cell_type": "code",
   "execution_count": 6,
   "metadata": {},
   "outputs": [],
   "source": [
    "returns = close.pct_change().dropna() * 10000"
   ]
  },
  {
   "cell_type": "code",
   "execution_count": 7,
   "metadata": {},
   "outputs": [
    {
     "data": {
      "image/png": "[encoded data removed]",
      "text/plain": [
       "<Figure size 432x288 with 1 Axes>"
      ]
     },
     "metadata": {
      "needs_background": "light"
     },
     "output_type": "display_data"
    }
   ],
   "source": [
    "fig, ax = plt.subplots(1,1,figsize=(6,4))\n",
    "ax.plot(returns)\n",
    "\n",
    "spacing = 60\n",
    "visible = ax.xaxis.get_ticklabels()[::spacing]\n",
    "for label in ax.xaxis.get_ticklabels():\n",
    "    if label not in visible:\n",
    "        label.set_visible(False)\n",
    "\n",
    "plt.show()"
   ]
  },
  {
   "cell_type": "code",
   "execution_count": 8,
   "metadata": {},
   "outputs": [
    {
     "data": {
      "image/png": "[encoded data removed]",
      "text/plain": [
       "<Figure size 432x288 with 1 Axes>"
      ]
     },
     "metadata": {
      "needs_background": "light"
     },
     "output_type": "display_data"
    }
   ],
   "source": [
    "from statsmodels.graphics.tsaplots import plot_acf, plot_pacf\n",
    "\n",
    "plot_pacf(returns**2)\n",
    "plt.show()"
   ]
  },
  {
   "cell_type": "code",
   "execution_count": 9,
   "metadata": {},
   "outputs": [
    {
     "data": {
      "text/html": [
       "<table class=\"simpletable\">\n",
       "<caption>Constant Mean - GARCH Model Results</caption>\n",
       "<tr>\n",
       "  <th>Dep. Variable:</th>        <td>None</td>        <th>  R-squared:         </th>  <td>   0.000</td> \n",
       "</tr>\n",
       "<tr>\n",
       "  <th>Mean Model:</th>       <td>Constant Mean</td>   <th>  Adj. R-squared:    </th>  <td>   0.000</td> \n",
       "</tr>\n",
       "<tr>\n",
       "  <th>Vol Model:</th>            <td>GARCH</td>       <th>  Log-Likelihood:    </th> <td>  -1628.75</td>\n",
       "</tr>\n",
       "<tr>\n",
       "  <th>Distribution:</th>        <td>Normal</td>       <th>  AIC:               </th> <td>   3273.51</td>\n",
       "</tr>\n",
       "<tr>\n",
       "  <th>Method:</th>        <td>Maximum Likelihood</td> <th>  BIC:               </th> <td>   3305.22</td>\n",
       "</tr>\n",
       "<tr>\n",
       "  <th></th>                        <td></td>          <th>  No. Observations:  </th>     <td>389</td>   \n",
       "</tr>\n",
       "<tr>\n",
       "  <th>Date:</th>           <td>Tue, Oct 12 2021</td>  <th>  Df Residuals:      </th>     <td>388</td>   \n",
       "</tr>\n",
       "<tr>\n",
       "  <th>Time:</th>               <td>23:48:19</td>      <th>  Df Model:          </th>      <td>1</td>    \n",
       "</tr>\n",
       "</table>\n",
       "<table class=\"simpletable\">\n",
       "<caption>Mean Model</caption>\n",
       "<tr>\n",
       "   <td></td>     <th>coef</th>     <th>std err</th>      <th>t</th>       <th>P>|t|</th>   <th>95.0% Conf. Int.</th> \n",
       "</tr>\n",
       "<tr>\n",
       "  <th>mu</th> <td>   -0.1316</td> <td>    0.686</td> <td>   -0.192</td> <td>    0.848</td> <td>[ -1.476,  1.213]</td>\n",
       "</tr>\n",
       "</table>\n",
       "<table class=\"simpletable\">\n",
       "<caption>Volatility Model</caption>\n",
       "<tr>\n",
       "      <td></td>        <th>coef</th>     <th>std err</th>      <th>t</th>       <th>P>|t|</th>    <th>95.0% Conf. Int.</th>  \n",
       "</tr>\n",
       "<tr>\n",
       "  <th>omega</th>    <td>   13.3091</td> <td>    7.788</td> <td>    1.709</td> <td>8.746e-02</td>  <td>[ -1.955, 28.573]</td> \n",
       "</tr>\n",
       "<tr>\n",
       "  <th>alpha[1]</th> <td>    0.2127</td> <td>    0.101</td> <td>    2.115</td> <td>3.439e-02</td> <td>[1.563e-02,  0.410]</td>\n",
       "</tr>\n",
       "<tr>\n",
       "  <th>alpha[2]</th> <td>    0.0269</td> <td>    0.136</td> <td>    0.198</td> <td>    0.843</td>  <td>[ -0.239,  0.293]</td> \n",
       "</tr>\n",
       "<tr>\n",
       "  <th>alpha[3]</th> <td>1.0294e-14</td> <td>9.347e-02</td> <td>1.101e-13</td> <td>    1.000</td>  <td>[ -0.183,  0.183]</td> \n",
       "</tr>\n",
       "<tr>\n",
       "  <th>beta[1]</th>  <td>    0.3356</td> <td>    0.322</td> <td>    1.041</td> <td>    0.298</td>  <td>[ -0.296,  0.968]</td> \n",
       "</tr>\n",
       "<tr>\n",
       "  <th>beta[2]</th>  <td>3.3926e-14</td> <td>    0.310</td> <td>1.093e-13</td> <td>    1.000</td>  <td>[ -0.608,  0.608]</td> \n",
       "</tr>\n",
       "<tr>\n",
       "  <th>beta[3]</th>  <td>    0.3763</td> <td>    0.149</td> <td>    2.527</td> <td>1.149e-02</td> <td>[8.450e-02,  0.668]</td>\n",
       "</tr>\n",
       "</table><br/><br/>Covariance estimator: robust"
      ],
      "text/plain": [
       "<class 'statsmodels.iolib.summary.Summary'>\n",
       "\"\"\"\n",
       "                     Constant Mean - GARCH Model Results                      \n",
       "==============================================================================\n",
       "Dep. Variable:                   None   R-squared:                       0.000\n",
       "Mean Model:             Constant Mean   Adj. R-squared:                  0.000\n",
       "Vol Model:                      GARCH   Log-Likelihood:               -1628.75\n",
       "Distribution:                  Normal   AIC:                           3273.51\n",
       "Method:            Maximum Likelihood   BIC:                           3305.22\n",
       "                                        No. Observations:                  389\n",
       "Date:                Tue, Oct 12 2021   Df Residuals:                      388\n",
       "Time:                        23:48:19   Df Model:                            1\n",
       "                               Mean Model                               \n",
       "========================================================================\n",
       "                 coef    std err          t      P>|t|  95.0% Conf. Int.\n",
       "------------------------------------------------------------------------\n",
       "mu            -0.1316      0.686     -0.192      0.848 [ -1.476,  1.213]\n",
       "                             Volatility Model                             \n",
       "==========================================================================\n",
       "                 coef    std err          t      P>|t|    95.0% Conf. Int.\n",
       "--------------------------------------------------------------------------\n",
       "omega         13.3091      7.788      1.709  8.746e-02   [ -1.955, 28.573]\n",
       "alpha[1]       0.2127      0.101      2.115  3.439e-02 [1.563e-02,  0.410]\n",
       "alpha[2]       0.0269      0.136      0.198      0.843   [ -0.239,  0.293]\n",
       "alpha[3]   1.0294e-14  9.347e-02  1.101e-13      1.000   [ -0.183,  0.183]\n",
       "beta[1]        0.3356      0.322      1.041      0.298   [ -0.296,  0.968]\n",
       "beta[2]    3.3926e-14      0.310  1.093e-13      1.000   [ -0.608,  0.608]\n",
       "beta[3]        0.3763      0.149      2.527  1.149e-02 [8.450e-02,  0.668]\n",
       "==========================================================================\n",
       "\n",
       "Covariance estimator: robust\n",
       "\"\"\""
      ]
     },
     "execution_count": 9,
     "metadata": {},
     "output_type": "execute_result"
    }
   ],
   "source": [
    "# try GARCH(3,3)\n",
    "model = arch_model(returns, p=3, q=3)\n",
    "model = model.fit(disp=\"off\")\n",
    "model.summary()"
   ]
  },
  {
   "cell_type": "code",
   "execution_count": 10,
   "metadata": {},
   "outputs": [
    {
     "data": {
      "text/html": [
       "<table class=\"simpletable\">\n",
       "<caption>Constant Mean - GARCH Model Results</caption>\n",
       "<tr>\n",
       "  <th>Dep. Variable:</th>        <td>None</td>        <th>  R-squared:         </th>  <td>   0.000</td> \n",
       "</tr>\n",
       "<tr>\n",
       "  <th>Mean Model:</th>       <td>Constant Mean</td>   <th>  Adj. R-squared:    </th>  <td>   0.000</td> \n",
       "</tr>\n",
       "<tr>\n",
       "  <th>Vol Model:</th>            <td>GARCH</td>       <th>  Log-Likelihood:    </th> <td>  -1630.63</td>\n",
       "</tr>\n",
       "<tr>\n",
       "  <th>Distribution:</th>        <td>Normal</td>       <th>  AIC:               </th> <td>   3269.26</td>\n",
       "</tr>\n",
       "<tr>\n",
       "  <th>Method:</th>        <td>Maximum Likelihood</td> <th>  BIC:               </th> <td>   3285.12</td>\n",
       "</tr>\n",
       "<tr>\n",
       "  <th></th>                        <td></td>          <th>  No. Observations:  </th>     <td>389</td>   \n",
       "</tr>\n",
       "<tr>\n",
       "  <th>Date:</th>           <td>Tue, Oct 12 2021</td>  <th>  Df Residuals:      </th>     <td>388</td>   \n",
       "</tr>\n",
       "<tr>\n",
       "  <th>Time:</th>               <td>23:48:19</td>      <th>  Df Model:          </th>      <td>1</td>    \n",
       "</tr>\n",
       "</table>\n",
       "<table class=\"simpletable\">\n",
       "<caption>Mean Model</caption>\n",
       "<tr>\n",
       "   <td></td>     <th>coef</th>     <th>std err</th>      <th>t</th>       <th>P>|t|</th>   <th>95.0% Conf. Int.</th> \n",
       "</tr>\n",
       "<tr>\n",
       "  <th>mu</th> <td>   -0.2272</td> <td>    0.648</td> <td>   -0.351</td> <td>    0.726</td> <td>[ -1.497,  1.042]</td>\n",
       "</tr>\n",
       "</table>\n",
       "<table class=\"simpletable\">\n",
       "<caption>Volatility Model</caption>\n",
       "<tr>\n",
       "      <td></td>        <th>coef</th>     <th>std err</th>      <th>t</th>       <th>P>|t|</th>    <th>95.0% Conf. Int.</th>  \n",
       "</tr>\n",
       "<tr>\n",
       "  <th>omega</th>    <td>    6.9295</td> <td>    4.409</td> <td>    1.572</td> <td>    0.116</td>  <td>[ -1.713, 15.571]</td> \n",
       "</tr>\n",
       "<tr>\n",
       "  <th>alpha[1]</th> <td>    0.1348</td> <td>5.457e-02</td> <td>    2.470</td> <td>1.353e-02</td> <td>[2.781e-02,  0.242]</td>\n",
       "</tr>\n",
       "<tr>\n",
       "  <th>beta[1]</th>  <td>    0.8415</td> <td>5.534e-02</td> <td>   15.206</td> <td>3.239e-52</td>  <td>[  0.733,  0.950]</td> \n",
       "</tr>\n",
       "</table><br/><br/>Covariance estimator: robust"
      ],
      "text/plain": [
       "<class 'statsmodels.iolib.summary.Summary'>\n",
       "\"\"\"\n",
       "                     Constant Mean - GARCH Model Results                      \n",
       "==============================================================================\n",
       "Dep. Variable:                   None   R-squared:                       0.000\n",
       "Mean Model:             Constant Mean   Adj. R-squared:                  0.000\n",
       "Vol Model:                      GARCH   Log-Likelihood:               -1630.63\n",
       "Distribution:                  Normal   AIC:                           3269.26\n",
       "Method:            Maximum Likelihood   BIC:                           3285.12\n",
       "                                        No. Observations:                  389\n",
       "Date:                Tue, Oct 12 2021   Df Residuals:                      388\n",
       "Time:                        23:48:19   Df Model:                            1\n",
       "                               Mean Model                               \n",
       "========================================================================\n",
       "                 coef    std err          t      P>|t|  95.0% Conf. Int.\n",
       "------------------------------------------------------------------------\n",
       "mu            -0.2272      0.648     -0.351      0.726 [ -1.497,  1.042]\n",
       "                             Volatility Model                             \n",
       "==========================================================================\n",
       "                 coef    std err          t      P>|t|    95.0% Conf. Int.\n",
       "--------------------------------------------------------------------------\n",
       "omega          6.9295      4.409      1.572      0.116   [ -1.713, 15.571]\n",
       "alpha[1]       0.1348  5.457e-02      2.470  1.353e-02 [2.781e-02,  0.242]\n",
       "beta[1]        0.8415  5.534e-02     15.206  3.239e-52   [  0.733,  0.950]\n",
       "==========================================================================\n",
       "\n",
       "Covariance estimator: robust\n",
       "\"\"\""
      ]
     },
     "execution_count": 10,
     "metadata": {},
     "output_type": "execute_result"
    }
   ],
   "source": [
    "# 2 not significant -> GARCH(1,1)\n",
    "model = arch_model(returns, p=1, q=1)\n",
    "model = model.fit(disp=\"off\")\n",
    "model.summary()"
   ]
  },
  {
   "cell_type": "code",
   "execution_count": 11,
   "metadata": {},
   "outputs": [],
   "source": [
    "preds = []\n",
    "test_minutes = 60\n",
    "    \n",
    "for i in range(test_minutes):\n",
    "    data = returns[:-(test_minutes-i)]\n",
    "    model = arch_model(data, p=1, q=1)\n",
    "    model = model.fit(disp='off')\n",
    "    pred = model.forecast(horizon=1)\n",
    "    preds.append(np.sqrt(pred.variance.values[-1,:][0]))\n",
    "    \n",
    "preds = pd.Series(preds, index=df_AAPL_210902.Time[-test_minutes:])"
   ]
  },
  {
   "cell_type": "code",
   "execution_count": 12,
   "metadata": {},
   "outputs": [
    {
     "data": {
      "image/png": "[encoded data removed]",
      "text/plain": [
       "<Figure size 720x288 with 1 Axes>"
      ]
     },
     "metadata": {
      "needs_background": "light"
     },
     "output_type": "display_data"
    }
   ],
   "source": [
    "fig, ax = plt.subplots(1,1,figsize=(10,4))\n",
    "ax.plot(preds)\n",
    "ax.plot(returns[-test_minutes:])\n",
    "ax.legend(['Predicted Volatility', 'True Returns'])\n",
    "\n",
    "spacing = 10\n",
    "visible = ax.xaxis.get_ticklabels()[::spacing]\n",
    "for label in ax.xaxis.get_ticklabels():\n",
    "    if label not in visible:\n",
    "        label.set_visible(False)"
   ]
  },
  {
   "cell_type": "markdown",
   "metadata": {},
   "source": [
    "We can see that the predicted volatility increases when the actual change in returns increases\n",
    "\n",
    "The test minutes variable is set to be 60 minutes for a better plot. We would be using 10 minutes since we will have the data up to 15:50 to predict the volatility of the last 10 minutes"
   ]
  },
  {
   "cell_type": "markdown",
   "metadata": {},
   "source": [
    "Problems I encountered:\n",
    "- Not all dates seem to be significant when trained using the GARCH model (p-values > 0.05)"
   ]
  },
  {
   "cell_type": "code",
   "execution_count": null,
   "metadata": {},
   "outputs": [],
   "source": []
  },
  {
   "cell_type": "code",
   "execution_count": null,
   "metadata": {},
   "outputs": [],
   "source": []
  }
 ],
 "metadata": {
  "kernelspec": {
   "display_name": "Python 3",
   "language": "python",
   "name": "python3"
  },
  "language_info": {
   "codemirror_mode": {
    "name": "ipython",
    "version": 3
   },
   "file_extension": ".py",
   "mimetype": "text/x-python",
   "name": "python",
   "nbconvert_exporter": "python",
   "pygments_lexer": "ipython3",
   "version": "3.8.5"
  }
 },
 "nbformat": 4,
 "nbformat_minor": 4
}
