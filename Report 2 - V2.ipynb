{
 "cells": [
  {
   "cell_type": "code",
   "execution_count": 97,
   "metadata": {},
   "outputs": [],
   "source": [
    "import pandas as pd\n",
    "import numpy as np\n",
    "import matplotlib.pyplot as plt\n",
    "import seaborn as sns\n",
    "from numpy import log, square, sqrt, power, arange, ones, zeros, isscalar,\\\n",
    "    array, outer, pi, sin, cos, expand_dims, repeat, full, concatenate, ravel\n",
    "from numpy.random import normal\n",
    "from scipy.optimize import least_squares, minimize\n",
    "%matplotlib inline"
   ]
  },
  {
   "cell_type": "code",
   "execution_count": 98,
   "metadata": {},
   "outputs": [
    {
     "name": "stderr",
     "output_type": "stream",
     "text": [
      "<ipython-input-98-4c45ab35bfa1>:19: SettingWithCopyWarning: \n",
      "A value is trying to be set on a copy of a slice from a DataFrame.\n",
      "Try using .loc[row_indexer,col_indexer] = value instead\n",
      "\n",
      "See the caveats in the documentation: https://pandas.pydata.org/pandas-docs/stable/user_guide/indexing.html#returning-a-view-versus-a-copy\n",
      "  apple['Date'] = pd.to_datetime(apple['Local_Date_Time']).dt.date\n"
     ]
    }
   ],
   "source": [
    "# Trade data\n",
    "\n",
    "stock_name = 'MSFT.O'\n",
    "\n",
    "df = pd.read_csv('NSQ_OneYear100test_Sept21.csv', \n",
    "                   usecols=['Local_Date_Time','RIC','Open','High','Low','Close','VWAP','NumberOfTrades','Volume'],\n",
    "                   dtype={'Local_Date_Time': str,\n",
    "                          'RIC': str, \n",
    "                          'Open': np.float64,\n",
    "                          'High': np.float64,\n",
    "                          'Low': np.float64,\n",
    "                          'Close': np.float64,\n",
    "                          'VWAP': np.float64,\n",
    "                          'NumberOfTrades': int,\n",
    "                          'Volume': int},\n",
    "                   skipinitialspace=True,\n",
    "                   parse_dates=True)\n",
    "apple = df[df['RIC'] == stock_name]\n",
    "apple['Date'] = pd.to_datetime(apple['Local_Date_Time']).dt.date\n",
    "\n",
    "qqq = pd.read_csv('QQQ_OneYear100test_Sept21.csv', \n",
    "                   usecols=['Local_Date_Time','RIC','Open','High','Low','Close','VWAP','NumberOfTrades','Volume'],\n",
    "                   dtype={'Local_Date_Time': str,\n",
    "                          'RIC': str, \n",
    "                          'Open': np.float64,\n",
    "                          'High': np.float64,\n",
    "                          'Low': np.float64,\n",
    "                          'Close': np.float64,\n",
    "                          'VWAP': np.float64,\n",
    "                          'NumberOfTrades': int,\n",
    "                          'Volume': int},\n",
    "                   skipinitialspace=True,\n",
    "                   parse_dates=True)\n",
    "qqq['Date'] = pd.to_datetime(qqq['Local_Date_Time']).dt.date"
   ]
  },
  {
   "cell_type": "code",
   "execution_count": 99,
   "metadata": {},
   "outputs": [
    {
     "name": "stderr",
     "output_type": "stream",
     "text": [
      "<ipython-input-99-c687e5b9a9f5>:6: SettingWithCopyWarning: \n",
      "A value is trying to be set on a copy of a slice from a DataFrame.\n",
      "Try using .loc[row_indexer,col_indexer] = value instead\n",
      "\n",
      "See the caveats in the documentation: https://pandas.pydata.org/pandas-docs/stable/user_guide/indexing.html#returning-a-view-versus-a-copy\n",
      "  apple_auction['Date'] = pd.to_datetime(apple_auction['Local_Date_Time']).dt.date\n"
     ]
    }
   ],
   "source": [
    "# Auction price data\n",
    "auction = pd.read_csv('NSQ_OneYear100closeA_Sept21.csv',\n",
    "                      skipinitialspace=True,\n",
    "                      parse_dates=True)\n",
    "apple_auction = auction[auction['RIC'] == stock_name]\n",
    "apple_auction['Date'] = pd.to_datetime(apple_auction['Local_Date_Time']).dt.date\n",
    "\n",
    "auction_qqq = pd.read_csv('QQQ_OneYear100closeA_Sept21.csv',\n",
    "                      skipinitialspace=True,\n",
    "                      parse_dates=True)\n",
    "auction_qqq['Date'] = pd.to_datetime(auction_qqq['Local_Date_Time']).dt.date"
   ]
  },
  {
   "cell_type": "code",
   "execution_count": 100,
   "metadata": {},
   "outputs": [],
   "source": [
    "# Data Processing (10 minute intervals)\n",
    "\n",
    "dates = apple['Date'].unique()\n",
    "daily_volatility = []\n",
    "daily_volatility_minus4pm = []\n",
    "daily_return = []\n",
    "avg_20day_volatility = []\n",
    "stocks = []\n",
    "dates_final = []\n",
    "auction_log_returns = []\n",
    "auction_log_returns_340350 = []\n",
    "volumes = []\n",
    "\n",
    "for date in dates:\n",
    "    \n",
    "    apple_today = apple[apple['Date'] == date]\n",
    "    apple_auction_today = apple_auction[apple_auction['Date'] == date]\n",
    "    \n",
    "    apple_today = apple_today.set_index(pd.DatetimeIndex(apple_today['Local_Date_Time']))\n",
    "    apple_today_10min_max = pd.DataFrame(apple_today['High'].resample(\"10T\").max())\n",
    "    apple_today_10min_min = pd.DataFrame(apple_today['Low'].resample(\"10T\").min())\n",
    "    apple_today_10min_open = pd.DataFrame(apple_today['Open'].resample(\"10T\").first())\n",
    "    apple_today_10min_close = pd.DataFrame(apple_today['Close'].resample(\"10T\").last())\n",
    "    apple_today_10min_volume = pd.DataFrame(apple_today['Volume'].resample(\"10T\").sum())\n",
    "    apple_today_10min = apple_today_10min_max.join(apple_today_10min_min)\n",
    "    apple_today_10min = apple_today_10min.join(apple_today_10min_open)\n",
    "    apple_today_10min = apple_today_10min.join(apple_today_10min_close)\n",
    "    apple_today_10min = apple_today_10min.join(apple_today_10min_volume)\n",
    "#     apple_today_10min['log_returns'] = abs(np.log(apple_today_10min['Close']/apple_today_10min['Open'])) # alternate volatility formula\n",
    "    apple_today_10min['log_returns'] = np.sqrt(0.5*np.square(np.log(apple_today_10min['High']/apple_today_10min['Low'])) - (2*np.log(2)-1) * np.square(np.log(apple_today_10min['Close']/apple_today_10min['Open'])))\n",
    "    volatility_today = apple_today_10min['log_returns'].values\n",
    "    return_today = (apple_today_10min['Close']/apple_today_10min['Open']).values\n",
    "    \n",
    "    if len(volatility_today) != 39: # Skip if there are fewer than 390 minutes of trading data\n",
    "        continue\n",
    "        \n",
    "    # Dates for which the trade data is complete\n",
    "    dates_final.append(date)\n",
    "    \n",
    "    auction_log_returns_today = abs(np.log(apple_auction_today['Price'].iloc[0]/apple_today_10min['Open'][-1]))\n",
    "    auction_log_returns.append(auction_log_returns_today)\n",
    "    \n",
    "    auction_log_returns_today_340350 = abs(np.log(apple_today_10min['Open'][-1]/apple_today_10min['Open'][-2]))\n",
    "    auction_log_returns_340350.append(auction_log_returns_today_340350)\n",
    "    \n",
    "    # 10 minute interval volatility * number of complete trade days\n",
    "    stocks.append(volatility_today)\n",
    "    \n",
    "    # Average daily volatility (later used for 20 day moving average)\n",
    "    daily_volatility.append(np.sqrt(39)*np.sqrt(np.mean(np.square(apple_today_10min['log_returns'].values))))\n",
    "    daily_volatility_minus4pm.append(np.sqrt(38)*np.sqrt(np.mean(np.square(apple_today_10min['log_returns'].values[:-1]))))\n",
    "    daily_return.append(return_today)\n",
    "    \n",
    "    # Total volume for each complete trade day between 930 and 1550\n",
    "    volumes.append(sum(apple_today_10min[:-1]['Volume']))\n",
    "\n",
    "daily_return = np.array(daily_return)\n",
    "volatility_df = pd.DataFrame({'Date':dates_final, 'daily_volatility': daily_volatility, 'daily_volatility_minus4pm': daily_volatility_minus4pm})\n",
    "volatility_df['diff'] = volatility_df['daily_volatility']-volatility_df['daily_volatility_minus4pm']\n",
    "volatility_df['volatility_ewma20'] = np.array([None] + [i for i in volatility_df['daily_volatility'].ewm(span=20).mean()][:-1])\n",
    "\n",
    "stocks = stocks[20:]\n",
    "stocks = np.vstack(stocks).T # Training data for Anderson model\n",
    "avg_20day_volatility_raw = np.array(volatility_df['volatility_ewma20'])\n",
    "avg_20day_volatility = np.array(volatility_df['volatility_ewma20'][20:]) # Sigma_t input for Anderson model"
   ]
  },
  {
   "cell_type": "code",
   "execution_count": 109,
   "metadata": {},
   "outputs": [],
   "source": [
    "# Data Processing (10 minute intervals)\n",
    "\n",
    "dates_qqq = qqq['Date'].unique()\n",
    "daily_volatility_qqq = []\n",
    "daily_volatility_qqq_minus4pm = []\n",
    "daily_return_qqq = []\n",
    "avg_20day_volatility_qqq = []\n",
    "stocks_qqq = []\n",
    "dates_final_qqq = []\n",
    "auction_log_returns_qqq = []\n",
    "volumes_qqq = []\n",
    "\n",
    "# i = 0\n",
    "for date in dates_qqq:\n",
    "    \n",
    "    qqq_today = qqq[qqq['Date'] == date]\n",
    "    qqq_auction_today = auction_qqq[auction_qqq['Date'] == date]\n",
    "    \n",
    "    qqq_today = qqq_today.set_index(pd.DatetimeIndex(qqq_today['Local_Date_Time']))\n",
    "    qqq_today_10min_max = pd.DataFrame(qqq_today['High'].resample(\"10T\").max())\n",
    "    qqq_today_10min_min = pd.DataFrame(qqq_today['Low'].resample(\"10T\").min())\n",
    "    qqq_today_10min_open = pd.DataFrame(qqq_today['Open'].resample(\"10T\").first())\n",
    "    qqq_today_10min_close = pd.DataFrame(qqq_today['Close'].resample(\"10T\").last())\n",
    "    qqq_today_10min_volume = pd.DataFrame(qqq_today['Volume'].resample(\"10T\").sum())\n",
    "    qqq_today_10min = qqq_today_10min_max.join(qqq_today_10min_min)\n",
    "    qqq_today_10min = qqq_today_10min.join(qqq_today_10min_open)\n",
    "    qqq_today_10min = qqq_today_10min.join(qqq_today_10min_close)\n",
    "    qqq_today_10min = qqq_today_10min.join(qqq_today_10min_volume)\n",
    "#     qqq_today_10min['log_returns'] = abs(np.log(qqq_today_10min['Close']/qqq_today_10min['Open'])) # alternate volatility formula\n",
    "    qqq_today_10min['log_returns'] = np.sqrt(0.5*np.square(np.log(qqq_today_10min['High']/qqq_today_10min['Low']))-(2*np.log(2)-1)*np.square(np.log(qqq_today_10min['Close']/qqq_today_10min['Open'])))\n",
    "    volatility_today_qqq = qqq_today_10min['log_returns'].values\n",
    "    return_today_qqq = (qqq_today_10min['Close']/qqq_today_10min['Open']).values\n",
    "    \n",
    "    if len(volatility_today_qqq) != 39: # Skip if there are fewer than 390 minutes of trading data\n",
    "        continue\n",
    "        \n",
    "    # Dates for which the trade data is complete\n",
    "    dates_final_qqq.append(date)\n",
    "    \n",
    "    auction_log_returns_today_qqq = abs(np.log(qqq_auction_today['Price'].iloc[0]/qqq_today_10min['Open'][-1]))\n",
    "    auction_log_returns_qqq.append(auction_log_returns_today_qqq)\n",
    "    \n",
    "    # 10 minute interval volatility * number of complete trade days\n",
    "    stocks_qqq.append(volatility_today_qqq)\n",
    "    \n",
    "    # Average daily volatility (later used for 20 day moving average)\n",
    "    daily_volatility_qqq.append(np.sqrt(39)*np.sqrt(np.mean(np.square(qqq_today_10min['log_returns'].values))))\n",
    "    daily_volatility_qqq_minus4pm.append(np.sqrt(38)*np.sqrt(np.mean(np.square(qqq_today_10min['log_returns'].values[:-1]))))\n",
    "    daily_return_qqq.append(return_today_qqq)\n",
    "    \n",
    "    # Total volume for each complete trade day between 930 and 1550\n",
    "    volumes_qqq.append(sum(qqq_today_10min[:-1]['Volume']))\n",
    "\n",
    "daily_return_qqq = np.array(daily_return_qqq)\n",
    "volatility_df_qqq = pd.DataFrame({'Date':dates_final_qqq, 'daily_volatility': daily_volatility_qqq, 'daily_volatility_qqq_minus4pm': daily_volatility_qqq_minus4pm})\n",
    "volatility_df_qqq['volatility_ewma20'] = np.array([None] + [i for i in volatility_df_qqq['daily_volatility'].ewm(span=20).mean()][:-1])\n",
    "\n",
    "stocks_qqq = stocks_qqq[20:]\n",
    "stocks_qqq = np.vstack(stocks_qqq).T # Training data for Anderson model\n",
    "avg_20day_volatility_raw_qqq = np.array(volatility_df_qqq['volatility_ewma20'])\n",
    "avg_20day_volatility_qqq = np.array(volatility_df_qqq['volatility_ewma20'][20:]) # Sigma_t input for Anderson model"
   ]
  },
  {
   "cell_type": "code",
   "execution_count": null,
   "metadata": {},
   "outputs": [],
   "source": []
  },
  {
   "cell_type": "code",
   "execution_count": 111,
   "metadata": {},
   "outputs": [],
   "source": [
    "# Calculating beta for the stock\n",
    "daily_beta = []\n",
    "\n",
    "for i in range(251):\n",
    "    today_corr = np.corrcoef(daily_return[i][:-1], daily_return_qqq[i][:-1])[1][0]\n",
    "    today_beta = today_corr * np.sqrt(np.var(daily_return[i])) / np.sqrt(np.var(daily_return_qqq[i]))\n",
    "    daily_beta.append(today_beta)\n"
   ]
  },
  {
   "cell_type": "code",
   "execution_count": 25,
   "metadata": {},
   "outputs": [],
   "source": [
    "class FlexibleFourierRegression():\n",
    "    '''\n",
    "    See P.152 Anderson(1997) Appendix B for details\n",
    "    '''\n",
    "    \n",
    "    def __init__(self, N, J=0, P=0, di=[]):\n",
    "        self.J = J\n",
    "        self.D = len(di)\n",
    "        self.P = P\n",
    "        \n",
    "        self.N = N\n",
    "        self.di = di\n",
    "        self.Id = zeros(shape=(N,))\n",
    "        self.mu0 = ones(shape=(J+1,))\n",
    "        self.mu1 = ones(shape=(J+1,))\n",
    "        self.mu2 = ones(shape=(J+1,))\n",
    "        self.lamb = ones(shape=(self.D,))\n",
    "        self.gamma = ones(shape=(P, J+1))\n",
    "        self.delta = ones(shape=(P, J+1))\n",
    "        self.p = arange(1, P + 1, 1)\n",
    "        self.x = concatenate([self.mu0.ravel(), self.mu1.ravel(), self.mu2.ravel(),\n",
    "            self.lamb.ravel(), self.gamma.ravel(), self.delta.ravel()])    \n",
    "        \n",
    "    def train(self, y, sigma_t, tol=0.1):\n",
    "        \"\"\"\n",
    "        Trains model using flexible fourier functional form.\n",
    "        \n",
    "        Parameters\n",
    "        ----------\n",
    "        y : dependent variable\n",
    "        \n",
    "        sigma_t: estimated conditional volatility for day t,\n",
    "        sigma_t is scalar or vector depending on vector=False/True.\n",
    "        \n",
    "        \n",
    "        \n",
    "        Returns\n",
    "        -------\n",
    "        Regression stats\n",
    "        \"\"\"\n",
    "        assert y.shape[0] == self.N, \"input y should have shape[0] == N:\"\n",
    "        n = arange(0, self.N, 1)\n",
    "        J = self.J\n",
    "        ## Learning weights for the following parameters\n",
    "        ## self.mu0, self.mu1, self.mu2, self.lamb, self.gamma, self.delta\n",
    "\n",
    "        def lsq_fun(x):\n",
    "            \n",
    "            mu0 = x[0: J+1]\n",
    "            mu1 = x[J+1: 2*J+2]\n",
    "            mu2 = x[2*J+2: 3*J+3]\n",
    "            lamb = x[3*J+3:3*J+3+self.D]\n",
    "            gamma = x[3*J+3+self.D: 3*J+3+self.D+self.P*(J+1)].reshape((self.P, J+1))\n",
    "            delta = x[3*J+3+self.D+self.P*(J+1): 3*J+3+self.D+2*self.P*(J+1)].reshape((self.P, J+1))\n",
    "            \n",
    "            gamma = repeat(expand_dims(gamma, axis=0), self.N, axis=0)\n",
    "            delta = repeat(expand_dims(delta, axis=0), self.N, axis=0)            \n",
    "            N1 = (self.N + 1) / 2\n",
    "            N2 = (self.N + 1) * (self.N + 2) / 6            \n",
    "            \n",
    "            dummy = self.Id.copy()\n",
    "            dummy[self.di] = lamb\n",
    "            dummy = repeat(expand_dims(dummy, axis=1), J+1, axis=1)\n",
    "            \n",
    "            mu0 = repeat(expand_dims(mu0, axis=0), self.N, axis=0)\n",
    "            quad = mu0 + outer(n / N1, mu1) + outer(square(n) / N2, mu2)\n",
    "            cosine = cos(2 * outer(n, self.p) * pi / self.N)\n",
    "            sine = sin(2 * outer(n, self.p) * pi / self.N)\n",
    "            cosine = repeat(expand_dims(cosine, axis=-1), J+1, axis=-1)\n",
    "            sine = repeat(expand_dims(sine, axis=-1), J+1, axis=-1)  \n",
    "            fourier_expand = gamma * cosine + delta * sine\n",
    "            fourier = fourier_expand.sum(axis=1)\n",
    "\n",
    "            sigma = full(fill_value=sigma_t, shape=(self.N, J+1))\n",
    "            for j in range(J+1):\n",
    "                sigma[:,j] = power(sigma[:,j], j)   \n",
    "\n",
    "            result = (sigma * (quad + dummy + fourier)).sum(axis=-1)\n",
    "            cost = square(result - y).mean()\n",
    "            \n",
    "            return cost\n",
    "\n",
    "        def lsq_fun_vec(x):\n",
    "            \n",
    "            mu0 = x[0: J+1]\n",
    "            mu1 = x[J+1: 2*J+2]\n",
    "            mu2 = x[2*J+2: 3*J+3]\n",
    "            lamb = x[3*J+3:3*J+3+self.D]\n",
    "            gamma = x[3*J+3+self.D: 3*J+3+self.D+self.P*(J+1)].reshape((self.P, J+1))\n",
    "            delta = x[3*J+3+self.D+self.P*(J+1): 3*J+3+self.D+2*self.P*(J+1)].reshape((self.P, J+1))\n",
    "            \n",
    "            gamma = repeat(expand_dims(gamma, axis=0), self.N, axis=0)\n",
    "            delta = repeat(expand_dims(delta, axis=0), self.N, axis=0)            \n",
    "            N1 = (self.N + 1) / 2\n",
    "            N2 = (self.N + 1) * (self.N + 2) / 6            \n",
    "            \n",
    "            dummy = self.Id.copy()\n",
    "            dummy[self.di] = lamb\n",
    "            dummy = repeat(expand_dims(dummy, axis=1), J+1, axis=1)\n",
    "            \n",
    "            mu0 = repeat(expand_dims(mu0, axis=0), self.N, axis=0)\n",
    "            quad = mu0 + outer(n / N1, mu1) + outer(square(n) / N2, mu2)\n",
    "            cosine = cos(2 * outer(n, self.p) * pi / self.N)\n",
    "            sine = sin(2 * outer(n, self.p) * pi / self.N)\n",
    "            cosine = repeat(expand_dims(cosine, axis=-1), J+1, axis=-1)\n",
    "            sine = repeat(expand_dims(sine, axis=-1), J+1, axis=-1)  \n",
    "            fourier_expand = gamma * cosine + delta * sine\n",
    "            fourier = fourier_expand.sum(axis=1)\n",
    "            \n",
    "            component = fourier + quad + dummy\n",
    "            component = repeat(expand_dims(component, axis=1), len(sigma_t), axis=1)  \n",
    "            \n",
    "            sigma = repeat(expand_dims(sigma_t, axis=0), self.N, axis=0)\n",
    "            sigma_J = repeat(expand_dims(sigma, axis=-1), J+1, axis=-1)\n",
    "            for j in range(J+1):\n",
    "                sigma_J[:,:,j] = power(sigma_J[:,:,j], j)   \n",
    "            \n",
    "            result = (sigma_J * component).sum(axis=-1)\n",
    "            cost = square(result - y).mean()\n",
    "            \n",
    "            return cost\n",
    "        \n",
    "\n",
    "        sigma_t = ravel(sigma_t)\n",
    "        assert sigma_t.shape[0] == y.shape[1], \"sigma_t should have shape (t, ) and y should have shape (N, t)\"\n",
    "        res = minimize(lsq_fun_vec, self.x, tol=tol)\n",
    "\n",
    "        self.mu0 = res.x[0: J+1]\n",
    "        self.mu1 = res.x[J+1: 2*J+2]\n",
    "        self.mu2 = res.x[2*J+2: 3*J+3]\n",
    "        self.lamb = res.x[3*J+3:3*J+3+self.D]\n",
    "        self.gamma = res.x[3*J+3+self.D: 3*J+3+self.D+self.P*(J+1)].reshape((self.P, J+1))\n",
    "        self.delta = res.x[3*J+3+self.D+self.P*(J+1): 3*J+3+self.D+2*self.P*(J+1)].reshape((self.P, J+1))            \n",
    "        \n",
    "        return res\n",
    "        \n",
    "    def predict(self, sigma_t, vector=False):\n",
    "        \n",
    "        N = self.N\n",
    "        D = self.D\n",
    "        J = self.J\n",
    "        P = self.P\n",
    "        p = self.p\n",
    "        \n",
    "        gamma = repeat(expand_dims(self.gamma, axis=0), N, axis=0)\n",
    "        delta = repeat(expand_dims(self.delta, axis=0), N, axis=0)\n",
    "        n = arange(0, N, 1)\n",
    "        N1 = (N + 1) / 2\n",
    "        N2 = (N + 1) * (N + 2) / 6\n",
    "        \n",
    "        dummy = self.Id.copy()\n",
    "        dummy[self.di] = self.lamb\n",
    "        dummy = repeat(expand_dims(dummy, axis=1), J+1, axis=1)\n",
    "        \n",
    "        quad = self.mu0 + outer(n / N1, self.mu1) + outer(square(n) / N2, self.mu2)\n",
    "        \n",
    "        cosine = cos(2 * outer(n, self.p) * pi / N)\n",
    "        sine = sin(2 * outer(n, self.p) * pi / N)\n",
    "        cosine = repeat(expand_dims(cosine, axis=-1), J+1, axis=-1)\n",
    "        sine = repeat(expand_dims(sine, axis=-1), J+1, axis=-1)\n",
    "        fourier_expand = gamma * cosine + delta * sine\n",
    "        fourier = fourier_expand.sum(axis=1)\n",
    "\n",
    "        sigma_t = ravel(sigma_t)\n",
    "        component = fourier + quad + dummy\n",
    "        component = repeat(expand_dims(component, axis=1), sigma_t.shape[0], axis=1)  \n",
    "        sigma = repeat(expand_dims(sigma_t, axis=0), self.N, axis=0)\n",
    "        sigma_J = repeat(expand_dims(sigma, axis=-1), J+1, axis=-1)\n",
    "        for j in range(J+1):\n",
    "            sigma_J[:,:,j] = power(sigma_J[:,:,j], j)               \n",
    "        result = (sigma_J * component).sum(axis=-1)\n",
    "            \n",
    "        return result"
   ]
  },
  {
   "cell_type": "code",
   "execution_count": 26,
   "metadata": {},
   "outputs": [],
   "source": [
    "stocks2 = stocks.T\n",
    "stocks2 = stocks2[:200].T\n",
    "avg_20day_volatility2 = avg_20day_volatility[:200]"
   ]
  },
  {
   "cell_type": "code",
   "execution_count": 9,
   "metadata": {},
   "outputs": [
    {
     "name": "stdout",
     "output_type": "stream",
     "text": [
      "optimizer success: True\n",
      "objective function (mse): 0.00000062\n"
     ]
    }
   ],
   "source": [
    "fourier = FlexibleFourierRegression(N=39, di=[], J=6, P=30) # 39 10-minute intervals in each trade day\n",
    "res = fourier.train(stocks, avg_20day_volatility, 0.0000005)\n",
    "print(\"optimizer success: {}\".format(res.success))\n",
    "print(\"objective function (mse): {:.8f}\".format(res.fun))"
   ]
  },
  {
   "cell_type": "code",
   "execution_count": 10,
   "metadata": {},
   "outputs": [
    {
     "ename": "NameError",
     "evalue": "name 'final_df' is not defined",
     "output_type": "error",
     "traceback": [
      "\u001b[1;31m---------------------------------------------------------------------------\u001b[0m",
      "\u001b[1;31mNameError\u001b[0m                                 Traceback (most recent call last)",
      "\u001b[1;32m<ipython-input-10-27ef19c27b64>\u001b[0m in \u001b[0;36m<module>\u001b[1;34m\u001b[0m\n\u001b[0;32m     23\u001b[0m     \u001b[0mresults\u001b[0m\u001b[1;33m.\u001b[0m\u001b[0mappend\u001b[0m\u001b[1;33m(\u001b[0m\u001b[0mresult\u001b[0m\u001b[1;33m[\u001b[0m\u001b[1;33m-\u001b[0m\u001b[1;36m1\u001b[0m\u001b[1;33m]\u001b[0m\u001b[1;33m[\u001b[0m\u001b[1;36m0\u001b[0m\u001b[1;33m]\u001b[0m\u001b[1;33m)\u001b[0m\u001b[1;33m\u001b[0m\u001b[1;33m\u001b[0m\u001b[0m\n\u001b[0;32m     24\u001b[0m \u001b[1;33m\u001b[0m\u001b[0m\n\u001b[1;32m---> 25\u001b[1;33m \u001b[0mprint\u001b[0m\u001b[1;33m(\u001b[0m\u001b[0mr2_score\u001b[0m\u001b[1;33m(\u001b[0m\u001b[1;33m[\u001b[0m\u001b[0mi\u001b[0m\u001b[1;33m[\u001b[0m\u001b[1;36m0\u001b[0m\u001b[1;33m]\u001b[0m \u001b[1;32mfor\u001b[0m \u001b[0mi\u001b[0m \u001b[1;32min\u001b[0m \u001b[0mnp\u001b[0m\u001b[1;33m.\u001b[0m\u001b[0marray\u001b[0m\u001b[1;33m(\u001b[0m\u001b[0mfinal_df\u001b[0m\u001b[1;33m[\u001b[0m\u001b[1;33m[\u001b[0m\u001b[1;34m'Auction_Log_Returns'\u001b[0m\u001b[1;33m]\u001b[0m\u001b[1;33m]\u001b[0m\u001b[1;33m[\u001b[0m\u001b[1;36m200\u001b[0m\u001b[1;33m:\u001b[0m\u001b[1;33m]\u001b[0m\u001b[1;33m)\u001b[0m\u001b[1;33m]\u001b[0m\u001b[1;33m,\u001b[0m \u001b[0mresults\u001b[0m\u001b[1;33m)\u001b[0m\u001b[1;33m)\u001b[0m\u001b[1;33m\u001b[0m\u001b[1;33m\u001b[0m\u001b[0m\n\u001b[0m",
      "\u001b[1;31mNameError\u001b[0m: name 'final_df' is not defined"
     ]
    }
   ],
   "source": [
    "### Hyper-parameter tuning\n",
    "# for J in [4,6,8,10,12]:\n",
    "#     for P in [15,20,25,30,35]:\n",
    "#         fourier = FlexibleFourierRegression(N=39, di=[], J=J, P=P) # 39 10-minute intervals in each trade day\n",
    "#         res = fourier.train(stocks, avg_20day_volatility, 0.0000005)\n",
    "# #         print(\"optimizer success: {}\".format(res.success))\n",
    "# #         print(\"objective function (mse): {:.5f}\".format(res.fun))\n",
    "\n",
    "#         results = []\n",
    "#         for n in range(200,231):\n",
    "#             result = fourier.predict(avg_20day_volatility[n])\n",
    "#             results.append(result[-1][0])\n",
    "        \n",
    "#         print(J,P)\n",
    "#         print(r2_score([i[0] for i in np.array(final_df[['Auction_Log_Returns']][200:])], results))\n",
    "#         print()"
   ]
  },
  {
   "cell_type": "code",
   "execution_count": 112,
   "metadata": {},
   "outputs": [
    {
     "data": {
      "text/plain": [
       "<matplotlib.legend.Legend at 0x25b48703ca0>"
      ]
     },
     "execution_count": 112,
     "metadata": {},
     "output_type": "execute_result"
    },
    {
     "data": {
      "image/png": "[encoded data removed]",
      "text/plain": [
       "<Figure size 1440x576 with 1 Axes>"
      ]
     },
     "metadata": {
      "needs_background": "light"
     },
     "output_type": "display_data"
    }
   ],
   "source": [
    "n=230\n",
    "result = fourier.predict(avg_20day_volatility[n])\n",
    "\n",
    "fig, ax = plt.subplots(1, 1, figsize=(20, 8))\n",
    "ax.plot(stocks.T[n], label=\"actual\")\n",
    "ax.plot(result, label=\"predicted\")\n",
    "plt.xlabel(\"10 minute Time Interval\")\n",
    "plt.ylabel(\"Absolute Log Returns\")\n",
    "plt.title('Actual vs. Predicted Absolute Log Returns for MSFT on 2021-08-30')\n",
    "ax.legend()"
   ]
  },
  {
   "cell_type": "code",
   "execution_count": 113,
   "metadata": {},
   "outputs": [],
   "source": [
    "# QQQ\n",
    "stocks2_qqq = stocks_qqq.T\n",
    "stocks2_qqq = stocks2_qqq[:200].T\n",
    "avg_20day_volatility2_qqq = avg_20day_volatility_qqq[:200]"
   ]
  },
  {
   "cell_type": "code",
   "execution_count": 114,
   "metadata": {},
   "outputs": [
    {
     "name": "stdout",
     "output_type": "stream",
     "text": [
      "optimizer success: True\n",
      "objective function (mse): 0.00000047\n"
     ]
    }
   ],
   "source": [
    "fourier_qqq = FlexibleFourierRegression(N=39, di=[], J=6, P=30) # 39 10-minute intervals in each trade day\n",
    "res_qqq = fourier_qqq.train(stocks_qqq, avg_20day_volatility_qqq, 0.0000005)\n",
    "print(\"optimizer success: {}\".format(res_qqq.success))\n",
    "print(\"objective function (mse): {:.8f}\".format(res_qqq.fun))"
   ]
  },
  {
   "cell_type": "code",
   "execution_count": 116,
   "metadata": {},
   "outputs": [
    {
     "data": {
      "text/plain": [
       "<matplotlib.legend.Legend at 0x25b171ae370>"
      ]
     },
     "execution_count": 116,
     "metadata": {},
     "output_type": "execute_result"
    },
    {
     "data": {
      "image/png": "[encoded data removed]",
      "text/plain": [
       "<Figure size 1440x576 with 1 Axes>"
      ]
     },
     "metadata": {
      "needs_background": "light"
     },
     "output_type": "display_data"
    }
   ],
   "source": [
    "n=230\n",
    "result_qqq = fourier_qqq.predict(avg_20day_volatility_qqq[n])\n",
    "\n",
    "fig, ax = plt.subplots(1, 1, figsize=(20, 8))\n",
    "ax.plot(stocks_qqq.T[n], label=\"dependent\")\n",
    "ax.plot(result_qqq, label=\"predict\")\n",
    "ax.legend()"
   ]
  },
  {
   "cell_type": "code",
   "execution_count": 117,
   "metadata": {},
   "outputs": [],
   "source": [
    "results = [None for i in range(20)]\n",
    "results_full = []\n",
    "\n",
    "for vol in avg_20day_volatility:\n",
    "    result = fourier.predict(vol)\n",
    "    results_full.append(np.array([res[0] for res in result]))\n",
    "    results.append(result[-1][0])\n",
    "results = np.array(results)\n",
    "results_full = np.array(results_full)"
   ]
  },
  {
   "cell_type": "code",
   "execution_count": null,
   "metadata": {},
   "outputs": [],
   "source": []
  },
  {
   "cell_type": "code",
   "execution_count": 118,
   "metadata": {},
   "outputs": [],
   "source": [
    "results_qqq = [None for i in range(20)]\n",
    "for vol in avg_20day_volatility_qqq:\n",
    "    result_qqq = fourier_qqq.predict(vol)\n",
    "    results_qqq.append(result_qqq[-1][0])\n",
    "results_qqq = np.array(results_qqq)"
   ]
  },
  {
   "cell_type": "code",
   "execution_count": null,
   "metadata": {},
   "outputs": [],
   "source": []
  },
  {
   "cell_type": "code",
   "execution_count": 119,
   "metadata": {},
   "outputs": [
    {
     "data": {
      "text/html": [
       "<div>\n",
       "<style scoped>\n",
       "    .dataframe tbody tr th:only-of-type {\n",
       "        vertical-align: middle;\n",
       "    }\n",
       "\n",
       "    .dataframe tbody tr th {\n",
       "        vertical-align: top;\n",
       "    }\n",
       "\n",
       "    .dataframe thead th {\n",
       "        text-align: right;\n",
       "    }\n",
       "</style>\n",
       "<table border=\"1\" class=\"dataframe\">\n",
       "  <thead>\n",
       "    <tr style=\"text-align: right;\">\n",
       "      <th></th>\n",
       "      <th>Date</th>\n",
       "      <th>Volume</th>\n",
       "      <th>Volume_qqq</th>\n",
       "      <th>Daily_Volatility_minus4pm</th>\n",
       "      <th>Daily_Volatility</th>\n",
       "      <th>Auction_Volatility_prop</th>\n",
       "      <th>Daily_Volatility_qqq_minus4pm</th>\n",
       "      <th>Avg20_Volatility</th>\n",
       "      <th>Avg20_Volatility_qqq</th>\n",
       "      <th>Beta</th>\n",
       "      <th>Anderson</th>\n",
       "      <th>Anderson_qqq</th>\n",
       "      <th>Auction_Log_Returns</th>\n",
       "    </tr>\n",
       "  </thead>\n",
       "  <tbody>\n",
       "    <tr>\n",
       "      <th>20</th>\n",
       "      <td>2020-09-30</td>\n",
       "      <td>19083581</td>\n",
       "      <td>34670209</td>\n",
       "      <td>0.015338</td>\n",
       "      <td>0.015865</td>\n",
       "      <td>1.034380</td>\n",
       "      <td>0.012674</td>\n",
       "      <td>0.0182034</td>\n",
       "      <td>0.0150915</td>\n",
       "      <td>1.076132</td>\n",
       "      <td>0.00367114</td>\n",
       "      <td>0.00267682</td>\n",
       "      <td>0.001615</td>\n",
       "    </tr>\n",
       "    <tr>\n",
       "      <th>21</th>\n",
       "      <td>2020-10-01</td>\n",
       "      <td>15528087</td>\n",
       "      <td>29708330</td>\n",
       "      <td>0.013371</td>\n",
       "      <td>0.013546</td>\n",
       "      <td>1.013058</td>\n",
       "      <td>0.011105</td>\n",
       "      <td>0.0179497</td>\n",
       "      <td>0.0148939</td>\n",
       "      <td>0.923397</td>\n",
       "      <td>0.00363372</td>\n",
       "      <td>0.00264728</td>\n",
       "      <td>0.000706</td>\n",
       "    </tr>\n",
       "    <tr>\n",
       "      <th>22</th>\n",
       "      <td>2020-10-02</td>\n",
       "      <td>20624465</td>\n",
       "      <td>47305127</td>\n",
       "      <td>0.015882</td>\n",
       "      <td>0.016182</td>\n",
       "      <td>1.018895</td>\n",
       "      <td>0.015322</td>\n",
       "      <td>0.0174781</td>\n",
       "      <td>0.0144991</td>\n",
       "      <td>0.997670</td>\n",
       "      <td>0.00356297</td>\n",
       "      <td>0.00258742</td>\n",
       "      <td>0.005079</td>\n",
       "    </tr>\n",
       "    <tr>\n",
       "      <th>23</th>\n",
       "      <td>2020-10-05</td>\n",
       "      <td>12430068</td>\n",
       "      <td>18568359</td>\n",
       "      <td>0.008086</td>\n",
       "      <td>0.008218</td>\n",
       "      <td>1.016369</td>\n",
       "      <td>0.006575</td>\n",
       "      <td>0.0173409</td>\n",
       "      <td>0.0146116</td>\n",
       "      <td>0.909705</td>\n",
       "      <td>0.0035421</td>\n",
       "      <td>0.0026046</td>\n",
       "      <td>0.001475</td>\n",
       "    </tr>\n",
       "    <tr>\n",
       "      <th>24</th>\n",
       "      <td>2020-10-06</td>\n",
       "      <td>18380375</td>\n",
       "      <td>33228184</td>\n",
       "      <td>0.017072</td>\n",
       "      <td>0.017611</td>\n",
       "      <td>1.031619</td>\n",
       "      <td>0.015872</td>\n",
       "      <td>0.0163856</td>\n",
       "      <td>0.0137801</td>\n",
       "      <td>0.882609</td>\n",
       "      <td>0.00339318</td>\n",
       "      <td>0.00247568</td>\n",
       "      <td>0.001799</td>\n",
       "    </tr>\n",
       "    <tr>\n",
       "      <th>...</th>\n",
       "      <td>...</td>\n",
       "      <td>...</td>\n",
       "      <td>...</td>\n",
       "      <td>...</td>\n",
       "      <td>...</td>\n",
       "      <td>...</td>\n",
       "      <td>...</td>\n",
       "      <td>...</td>\n",
       "      <td>...</td>\n",
       "      <td>...</td>\n",
       "      <td>...</td>\n",
       "      <td>...</td>\n",
       "      <td>...</td>\n",
       "    </tr>\n",
       "    <tr>\n",
       "      <th>246</th>\n",
       "      <td>2021-08-26</td>\n",
       "      <td>10177095</td>\n",
       "      <td>21595483</td>\n",
       "      <td>0.007056</td>\n",
       "      <td>0.007216</td>\n",
       "      <td>1.022757</td>\n",
       "      <td>0.006207</td>\n",
       "      <td>0.00880319</td>\n",
       "      <td>0.00585322</td>\n",
       "      <td>0.919565</td>\n",
       "      <td>0.00198999</td>\n",
       "      <td>0.00101042</td>\n",
       "      <td>0.001904</td>\n",
       "    </tr>\n",
       "    <tr>\n",
       "      <th>247</th>\n",
       "      <td>2021-08-27</td>\n",
       "      <td>11442471</td>\n",
       "      <td>18933101</td>\n",
       "      <td>0.008055</td>\n",
       "      <td>0.008204</td>\n",
       "      <td>1.018419</td>\n",
       "      <td>0.005883</td>\n",
       "      <td>0.00865206</td>\n",
       "      <td>0.00589517</td>\n",
       "      <td>1.367197</td>\n",
       "      <td>0.00195807</td>\n",
       "      <td>0.00101929</td>\n",
       "      <td>0.000434</td>\n",
       "    </tr>\n",
       "    <tr>\n",
       "      <th>248</th>\n",
       "      <td>2021-08-30</td>\n",
       "      <td>9032609</td>\n",
       "      <td>18151158</td>\n",
       "      <td>0.006824</td>\n",
       "      <td>0.006934</td>\n",
       "      <td>1.016158</td>\n",
       "      <td>0.004029</td>\n",
       "      <td>0.00860936</td>\n",
       "      <td>0.00590158</td>\n",
       "      <td>1.440268</td>\n",
       "      <td>0.00194902</td>\n",
       "      <td>0.00102065</td>\n",
       "      <td>0.000066</td>\n",
       "    </tr>\n",
       "    <tr>\n",
       "      <th>249</th>\n",
       "      <td>2021-08-31</td>\n",
       "      <td>8654638</td>\n",
       "      <td>18406465</td>\n",
       "      <td>0.006888</td>\n",
       "      <td>0.007519</td>\n",
       "      <td>1.091602</td>\n",
       "      <td>0.005277</td>\n",
       "      <td>0.00844978</td>\n",
       "      <td>0.00572902</td>\n",
       "      <td>1.208496</td>\n",
       "      <td>0.0019151</td>\n",
       "      <td>0.000984093</td>\n",
       "      <td>0.004858</td>\n",
       "    </tr>\n",
       "    <tr>\n",
       "      <th>250</th>\n",
       "      <td>2021-09-01</td>\n",
       "      <td>9426217</td>\n",
       "      <td>17326952</td>\n",
       "      <td>0.007891</td>\n",
       "      <td>0.008158</td>\n",
       "      <td>1.033828</td>\n",
       "      <td>0.004427</td>\n",
       "      <td>0.00836116</td>\n",
       "      <td>0.00569609</td>\n",
       "      <td>1.153926</td>\n",
       "      <td>0.00189618</td>\n",
       "      <td>0.000977093</td>\n",
       "      <td>0.002350</td>\n",
       "    </tr>\n",
       "  </tbody>\n",
       "</table>\n",
       "<p>231 rows × 13 columns</p>\n",
       "</div>"
      ],
      "text/plain": [
       "           Date    Volume  Volume_qqq  Daily_Volatility_minus4pm  \\\n",
       "20   2020-09-30  19083581    34670209                   0.015338   \n",
       "21   2020-10-01  15528087    29708330                   0.013371   \n",
       "22   2020-10-02  20624465    47305127                   0.015882   \n",
       "23   2020-10-05  12430068    18568359                   0.008086   \n",
       "24   2020-10-06  18380375    33228184                   0.017072   \n",
       "..          ...       ...         ...                        ...   \n",
       "246  2021-08-26  10177095    21595483                   0.007056   \n",
       "247  2021-08-27  11442471    18933101                   0.008055   \n",
       "248  2021-08-30   9032609    18151158                   0.006824   \n",
       "249  2021-08-31   8654638    18406465                   0.006888   \n",
       "250  2021-09-01   9426217    17326952                   0.007891   \n",
       "\n",
       "     Daily_Volatility  Auction_Volatility_prop  Daily_Volatility_qqq_minus4pm  \\\n",
       "20           0.015865                 1.034380                       0.012674   \n",
       "21           0.013546                 1.013058                       0.011105   \n",
       "22           0.016182                 1.018895                       0.015322   \n",
       "23           0.008218                 1.016369                       0.006575   \n",
       "24           0.017611                 1.031619                       0.015872   \n",
       "..                ...                      ...                            ...   \n",
       "246          0.007216                 1.022757                       0.006207   \n",
       "247          0.008204                 1.018419                       0.005883   \n",
       "248          0.006934                 1.016158                       0.004029   \n",
       "249          0.007519                 1.091602                       0.005277   \n",
       "250          0.008158                 1.033828                       0.004427   \n",
       "\n",
       "    Avg20_Volatility Avg20_Volatility_qqq      Beta    Anderson Anderson_qqq  \\\n",
       "20         0.0182034            0.0150915  1.076132  0.00367114   0.00267682   \n",
       "21         0.0179497            0.0148939  0.923397  0.00363372   0.00264728   \n",
       "22         0.0174781            0.0144991  0.997670  0.00356297   0.00258742   \n",
       "23         0.0173409            0.0146116  0.909705   0.0035421    0.0026046   \n",
       "24         0.0163856            0.0137801  0.882609  0.00339318   0.00247568   \n",
       "..               ...                  ...       ...         ...          ...   \n",
       "246       0.00880319           0.00585322  0.919565  0.00198999   0.00101042   \n",
       "247       0.00865206           0.00589517  1.367197  0.00195807   0.00101929   \n",
       "248       0.00860936           0.00590158  1.440268  0.00194902   0.00102065   \n",
       "249       0.00844978           0.00572902  1.208496   0.0019151  0.000984093   \n",
       "250       0.00836116           0.00569609  1.153926  0.00189618  0.000977093   \n",
       "\n",
       "     Auction_Log_Returns  \n",
       "20              0.001615  \n",
       "21              0.000706  \n",
       "22              0.005079  \n",
       "23              0.001475  \n",
       "24              0.001799  \n",
       "..                   ...  \n",
       "246             0.001904  \n",
       "247             0.000434  \n",
       "248             0.000066  \n",
       "249             0.004858  \n",
       "250             0.002350  \n",
       "\n",
       "[231 rows x 13 columns]"
      ]
     },
     "execution_count": 119,
     "metadata": {},
     "output_type": "execute_result"
    }
   ],
   "source": [
    "# Simple linear regression with Anderson coefficient\n",
    "final_df = pd.DataFrame({\n",
    "    'Date': dates_final, \n",
    "    'Volume': volumes,\n",
    "    'Volume_qqq': volumes_qqq,\n",
    "    \n",
    "    'Daily_Volatility_minus4pm': volatility_df['daily_volatility_minus4pm'],\n",
    "    'Daily_Volatility': volatility_df['daily_volatility'],\n",
    "    'Auction_Volatility_prop': volatility_df['daily_volatility']/volatility_df['daily_volatility_minus4pm'],\n",
    "    \n",
    "    'Daily_Volatility_qqq_minus4pm': volatility_df_qqq['daily_volatility_qqq_minus4pm'],\n",
    "    \n",
    "    'Avg20_Volatility': avg_20day_volatility_raw, \n",
    "    'Avg20_Volatility_qqq': avg_20day_volatility_raw_qqq, \n",
    "    'Beta': daily_beta,\n",
    "    'Anderson': results,\n",
    "    'Anderson_qqq': results_qqq,\n",
    "    'Auction_Log_Returns': auction_log_returns\n",
    "})\n",
    "\n",
    "# daily_volatility_minus4pm.append(np.sqrt(39)*np.sqrt(np.mean(np.square(apple_today_10min['log_returns'].values[:-1]))))\n",
    "\n",
    "# for i in range(1, len(final_df)):\n",
    "    \n",
    "#     # Predict today's \"Daily_Volatility\" based on yesterday's ratio and today's volatility before 4pm\n",
    "#     today_step1 = final_df.loc[i, 'Daily_Volatility_minus4pm']*final_df.loc[i-1, 'Auction_Volatility_prop']\n",
    "#     today_step2 = (today_step1/np.sqrt(39))**2\n",
    "#     int_step = (final_df.loc[i, 'Daily_Volatility_minus4pm']/np.sqrt(38))**2\n",
    "#     today_step3 = np.sqrt(max(0, today_step2*39-int_step*38))\n",
    "#     final_df.loc[i, 'Auction_Volatility_pred'] = today_step3\n",
    "\n",
    "# stocks = stocks.T\n",
    "# for i in range(len(final_df)-20):\n",
    "    \n",
    "#     # Get today's ratio\n",
    "#     ratio = sum(stocks[i][:-1])/sum(results_full[i][:-1])\n",
    "#     vol_pred = results_full[i][-1] * ratio\n",
    "#     final_df.loc[i+20, 'Auction_Volatility_pred2'] = vol_pred\n",
    "    \n",
    "final_df = final_df[final_df['Anderson'] > -float('inf')]\n",
    "final_df"
   ]
  },
  {
   "cell_type": "code",
   "execution_count": 121,
   "metadata": {},
   "outputs": [
    {
     "name": "stdout",
     "output_type": "stream",
     "text": [
      "-0.4108126196151991\n"
     ]
    }
   ],
   "source": [
    "from sklearn.metrics import mean_squared_error, r2_score, mean_absolute_error\n",
    "\n",
    "results = []\n",
    "for n in range(200,231):\n",
    "    result = fourier.predict(avg_20day_volatility[n])\n",
    "    results.append(result[-1][0])\n",
    "\n",
    "print(r2_score([i[0] for i in np.array(final_df[['Auction_Log_Returns']][200:])], results))"
   ]
  },
  {
   "cell_type": "code",
   "execution_count": 122,
   "metadata": {},
   "outputs": [
    {
     "data": {
      "text/plain": [
       "LinearRegression()"
      ]
     },
     "execution_count": 122,
     "metadata": {},
     "output_type": "execute_result"
    }
   ],
   "source": [
    "####################################\n",
    "# Linear Model with Anderson\n",
    "####################################\n",
    "\n",
    "from sklearn.linear_model import LinearRegression\n",
    "model_volatility = LinearRegression()\n",
    "model_volatility.fit(final_df[['Volume','Avg20_Volatility','Anderson']][:200], final_df[['Auction_Log_Returns']][:200])"
   ]
  },
  {
   "cell_type": "code",
   "execution_count": 123,
   "metadata": {},
   "outputs": [
    {
     "name": "stdout",
     "output_type": "stream",
     "text": [
      "Within 1 confidence interval was 0.6774193548387096\n",
      "Within 2 confidence intervals was 0.9032258064516129\n",
      "Within 3 confidence intervals was 0.967741935483871\n"
     ]
    }
   ],
   "source": [
    "####################################\n",
    "# Confidence Interval with Anderson\n",
    "####################################\n",
    "\n",
    "y_pred = model_volatility.predict(final_df[['Volume','Avg20_Volatility','Anderson']][200:])\n",
    "y_pred_var = pd.DataFrame({'Date': final_df['Date'][200:], 'pred_ratio': [np.exp(i[0]) for i in y_pred]})\n",
    "\n",
    "# Rows with 3:50pm information\n",
    "apple_price_1550 = apple[apple['Local_Date_Time'].str.contains(\"15:50\")]\n",
    "\n",
    "# Merge the above two tables\n",
    "merged1 = apple_price_1550.merge(apple_auction, on='Date')\n",
    "merged2 = merged1.merge(y_pred_var, on='Date')\n",
    "merged2['Predicted_Variance'] = merged2['Open']*merged2['pred_ratio'] - merged2['Open']\n",
    "merged2.loc[(merged2['Price']<merged2['Open']+merged2['Predicted_Variance']) & (merged2['Price']>=merged2['Open']-merged2['Predicted_Variance']), 'Within_1Interval'] = True \n",
    "merged2.loc[(merged2['Price']>=merged2['Open']+merged2['Predicted_Variance']) | (merged2['Price']<merged2['Open']-merged2['Predicted_Variance']), 'Within_1Interval'] = False\n",
    "merged2.loc[(merged2['Price']<merged2['Open']+2*merged2['Predicted_Variance']) & (merged2['Price']>=merged2['Open']-2*merged2['Predicted_Variance']), 'Within_2Interval'] = True \n",
    "merged2.loc[(merged2['Price']>=merged2['Open']+2*merged2['Predicted_Variance']) | (merged2['Price']<merged2['Open']-2*merged2['Predicted_Variance']), 'Within_2Interval'] = False\n",
    "merged2.loc[(merged2['Price']<merged2['Open']+3*merged2['Predicted_Variance']) & (merged2['Price']>=merged2['Open']-3*merged2['Predicted_Variance']), 'Within_3Interval'] = True \n",
    "merged2.loc[(merged2['Price']>=merged2['Open']+3*merged2['Predicted_Variance']) | (merged2['Price']<merged2['Open']-3*merged2['Predicted_Variance']), 'Within_3Interval'] = False\n",
    "\n",
    "print('Within 1 confidence interval was', merged2[merged2['Within_1Interval'] == True].shape[0] / merged2.shape[0])\n",
    "print('Within 2 confidence intervals was', merged2[merged2['Within_2Interval'] == True].shape[0] / merged2.shape[0])\n",
    "print('Within 3 confidence intervals was', merged2[merged2['Within_3Interval'] == True].shape[0] / merged2.shape[0])"
   ]
  },
  {
   "cell_type": "markdown",
   "metadata": {},
   "source": [
    "With the Anderson model, it follows the normal distribution closely."
   ]
  },
  {
   "cell_type": "code",
   "execution_count": 124,
   "metadata": {},
   "outputs": [
    {
     "data": {
      "text/plain": [
       "0.4421429189839431"
      ]
     },
     "execution_count": 124,
     "metadata": {},
     "output_type": "execute_result"
    }
   ],
   "source": [
    "np.mean(merged2['Predicted_Variance']) # narrower than not using Anderson"
   ]
  },
  {
   "cell_type": "code",
   "execution_count": 125,
   "metadata": {},
   "outputs": [
    {
     "data": {
      "text/plain": [
       "LinearRegression()"
      ]
     },
     "execution_count": 125,
     "metadata": {},
     "output_type": "execute_result"
    }
   ],
   "source": [
    "####################################\n",
    "# Linear Model with Anderson QQQ\n",
    "####################################\n",
    "\n",
    "from sklearn.linear_model import LinearRegression, Ridge\n",
    "from sklearn.preprocessing import PolynomialFeatures\n",
    "\n",
    "# interaction = PolynomialFeatures(degree=2, include_bias=False, interaction_only=True)\n",
    "# X_inter = interaction.fit_transform(final_df[['Volume','Avg20_Volatility','Avg20_Volatility_qqq','Beta','Anderson']][:200])\n",
    "\n",
    "model_volatility_qqq = LinearRegression()\n",
    "model_volatility_qqq.fit(final_df[['Volume','Avg20_Volatility','Avg20_Volatility_qqq','Beta','Anderson']][:200], final_df[['Auction_Log_Returns']][:200])\n",
    "\n",
    "# model_volatility_qqq = Ridge()\n",
    "# model_volatility_qqq.fit(final_df[['Volume','Avg20_Volatility','Avg20_Volatility_qqq','Anderson']][:200], final_df[['Auction_Log_Returns']][:200])\n"
   ]
  },
  {
   "cell_type": "code",
   "execution_count": 126,
   "metadata": {},
   "outputs": [
    {
     "name": "stdout",
     "output_type": "stream",
     "text": [
      "Within 1 confidence interval was 0.6774193548387096\n",
      "Within 2 confidence intervals was 0.9032258064516129\n",
      "Within 3 confidence intervals was 0.967741935483871\n"
     ]
    }
   ],
   "source": [
    "####################################\n",
    "# Confidence Interval with QQQ\n",
    "####################################\n",
    "\n",
    "y_pred_qqq = model_volatility_qqq.predict(final_df[['Volume','Avg20_Volatility','Avg20_Volatility_qqq','Beta','Anderson']][200:])\n",
    "y_pred_var_qqq = pd.DataFrame({'Date': final_df['Date'][200:], 'pred_ratio': [np.exp(i[0]) for i in y_pred_qqq]})\n",
    "\n",
    "# Rows with 3:50pm information\n",
    "apple_price_1550 = apple[apple['Local_Date_Time'].str.contains(\"15:50\")]\n",
    "\n",
    "# Merge the above two tables\n",
    "merged1 = apple_price_1550.merge(apple_auction, on='Date')\n",
    "merged2 = merged1.merge(y_pred_var_qqq, on='Date')\n",
    "merged2['Predicted_Variance'] = merged2['Open']*merged2['pred_ratio'] - merged2['Open']\n",
    "merged2.loc[(merged2['Price']<merged2['Open']+merged2['Predicted_Variance']) & (merged2['Price']>=merged2['Open']-merged2['Predicted_Variance']), 'Within_1Interval'] = True \n",
    "merged2.loc[(merged2['Price']>=merged2['Open']+merged2['Predicted_Variance']) | (merged2['Price']<merged2['Open']-merged2['Predicted_Variance']), 'Within_1Interval'] = False\n",
    "merged2.loc[(merged2['Price']<merged2['Open']+2*merged2['Predicted_Variance']) & (merged2['Price']>=merged2['Open']-2*merged2['Predicted_Variance']), 'Within_2Interval'] = True \n",
    "merged2.loc[(merged2['Price']>=merged2['Open']+2*merged2['Predicted_Variance']) | (merged2['Price']<merged2['Open']-2*merged2['Predicted_Variance']), 'Within_2Interval'] = False\n",
    "merged2.loc[(merged2['Price']<merged2['Open']+3*merged2['Predicted_Variance']) & (merged2['Price']>=merged2['Open']-3*merged2['Predicted_Variance']), 'Within_3Interval'] = True \n",
    "merged2.loc[(merged2['Price']>=merged2['Open']+3*merged2['Predicted_Variance']) | (merged2['Price']<merged2['Open']-3*merged2['Predicted_Variance']), 'Within_3Interval'] = False\n",
    "\n",
    "print('Within 1 confidence interval was', merged2[merged2['Within_1Interval'] == True].shape[0] / merged2.shape[0])\n",
    "print('Within 2 confidence intervals was', merged2[merged2['Within_2Interval'] == True].shape[0] / merged2.shape[0])\n",
    "print('Within 3 confidence intervals was', merged2[merged2['Within_3Interval'] == True].shape[0] / merged2.shape[0])"
   ]
  },
  {
   "cell_type": "markdown",
   "metadata": {},
   "source": [
    "With the QQQ model, it follows the normal distribution closely."
   ]
  },
  {
   "cell_type": "code",
   "execution_count": 127,
   "metadata": {},
   "outputs": [
    {
     "data": {
      "text/plain": [
       "0.4480602458158992"
      ]
     },
     "execution_count": 127,
     "metadata": {},
     "output_type": "execute_result"
    }
   ],
   "source": [
    "np.mean(merged2['Predicted_Variance']) # narrower than not using QQQ"
   ]
  },
  {
   "cell_type": "code",
   "execution_count": 128,
   "metadata": {},
   "outputs": [
    {
     "data": {
      "text/plain": [
       "LinearRegression()"
      ]
     },
     "execution_count": 128,
     "metadata": {},
     "output_type": "execute_result"
    }
   ],
   "source": [
    "####################################\n",
    "# Linear Model with Anderson QQQ Ratio\n",
    "####################################\n",
    "\n",
    "from sklearn.linear_model import LinearRegression, Ridge\n",
    "model_volatility_ratio = LinearRegression()\n",
    "model_volatility_ratio.fit(final_df[['Volume','Avg20_Volatility','Avg20_Volatility_qqq','Beta','Anderson','Daily_Volatility_minus4pm','Daily_Volatility_qqq_minus4pm']][:200], final_df[['Auction_Log_Returns']][:200])\n",
    "\n",
    "# model_volatility_qqq = Ridge()\n",
    "# model_volatility_qqq.fit(final_df[['Volume','Avg20_Volatility','Avg20_Volatility_qqq','Anderson']][:200], final_df[['Auction_Log_Returns']][:200])\n"
   ]
  },
  {
   "cell_type": "code",
   "execution_count": 129,
   "metadata": {},
   "outputs": [
    {
     "name": "stdout",
     "output_type": "stream",
     "text": [
      "Within 1 confidence interval was 0.6451612903225806\n",
      "Within 2 confidence intervals was 0.9354838709677419\n",
      "Within 3 confidence intervals was 1.0\n"
     ]
    }
   ],
   "source": [
    "####################################\n",
    "# Confidence Interval with QQQ Ratio\n",
    "####################################\n",
    "\n",
    "y_pred_ratio = model_volatility_ratio.predict(final_df[['Volume','Avg20_Volatility','Avg20_Volatility_qqq','Beta','Anderson','Daily_Volatility_minus4pm','Daily_Volatility_qqq_minus4pm']][200:])\n",
    "y_pred_var_ratio = pd.DataFrame({'Date': final_df['Date'][200:], 'pred_ratio': [np.exp(i[0]) for i in y_pred_ratio]})\n",
    "\n",
    "# Rows with 3:50pm information\n",
    "apple_price_1550 = apple[apple['Local_Date_Time'].str.contains(\"15:50\")]\n",
    "\n",
    "# Merge the above two tables\n",
    "merged1 = apple_price_1550.merge(apple_auction, on='Date')\n",
    "merged2 = merged1.merge(y_pred_var_ratio, on='Date')\n",
    "merged2['Predicted_Variance'] = merged2['Open']*merged2['pred_ratio'] - merged2['Open']\n",
    "merged2.loc[(merged2['Price']<merged2['Open']+merged2['Predicted_Variance']) & (merged2['Price']>=merged2['Open']-merged2['Predicted_Variance']), 'Within_1Interval'] = True \n",
    "merged2.loc[(merged2['Price']>=merged2['Open']+merged2['Predicted_Variance']) | (merged2['Price']<merged2['Open']-merged2['Predicted_Variance']), 'Within_1Interval'] = False\n",
    "merged2.loc[(merged2['Price']<merged2['Open']+2*merged2['Predicted_Variance']) & (merged2['Price']>=merged2['Open']-2*merged2['Predicted_Variance']), 'Within_2Interval'] = True \n",
    "merged2.loc[(merged2['Price']>=merged2['Open']+2*merged2['Predicted_Variance']) | (merged2['Price']<merged2['Open']-2*merged2['Predicted_Variance']), 'Within_2Interval'] = False\n",
    "merged2.loc[(merged2['Price']<merged2['Open']+3*merged2['Predicted_Variance']) & (merged2['Price']>=merged2['Open']-3*merged2['Predicted_Variance']), 'Within_3Interval'] = True \n",
    "merged2.loc[(merged2['Price']>=merged2['Open']+3*merged2['Predicted_Variance']) | (merged2['Price']<merged2['Open']-3*merged2['Predicted_Variance']), 'Within_3Interval'] = False\n",
    "\n",
    "print('Within 1 confidence interval was', merged2[merged2['Within_1Interval'] == True].shape[0] / merged2.shape[0])\n",
    "print('Within 2 confidence intervals was', merged2[merged2['Within_2Interval'] == True].shape[0] / merged2.shape[0])\n",
    "print('Within 3 confidence intervals was', merged2[merged2['Within_3Interval'] == True].shape[0] / merged2.shape[0])"
   ]
  },
  {
   "cell_type": "code",
   "execution_count": 130,
   "metadata": {},
   "outputs": [
    {
     "data": {
      "text/plain": [
       "0.4728842416888083"
      ]
     },
     "execution_count": 130,
     "metadata": {},
     "output_type": "execute_result"
    }
   ],
   "source": [
    "np.mean(merged2['Predicted_Variance']) "
   ]
  },
  {
   "cell_type": "code",
   "execution_count": null,
   "metadata": {},
   "outputs": [],
   "source": []
  },
  {
   "cell_type": "code",
   "execution_count": 131,
   "metadata": {},
   "outputs": [
    {
     "data": {
      "text/html": [
       "<div>\n",
       "<style scoped>\n",
       "    .dataframe tbody tr th:only-of-type {\n",
       "        vertical-align: middle;\n",
       "    }\n",
       "\n",
       "    .dataframe tbody tr th {\n",
       "        vertical-align: top;\n",
       "    }\n",
       "\n",
       "    .dataframe thead th {\n",
       "        text-align: right;\n",
       "    }\n",
       "</style>\n",
       "<table border=\"1\" class=\"dataframe\">\n",
       "  <thead>\n",
       "    <tr style=\"text-align: right;\">\n",
       "      <th></th>\n",
       "      <th>Date</th>\n",
       "      <th>Volume</th>\n",
       "      <th>Avg20_Volatility</th>\n",
       "      <th>Auction_Log_Returns</th>\n",
       "    </tr>\n",
       "  </thead>\n",
       "  <tbody>\n",
       "    <tr>\n",
       "      <th>20</th>\n",
       "      <td>2020-09-30</td>\n",
       "      <td>19083581</td>\n",
       "      <td>0.0182034</td>\n",
       "      <td>0.001615</td>\n",
       "    </tr>\n",
       "    <tr>\n",
       "      <th>21</th>\n",
       "      <td>2020-10-01</td>\n",
       "      <td>15528087</td>\n",
       "      <td>0.0179497</td>\n",
       "      <td>0.000706</td>\n",
       "    </tr>\n",
       "    <tr>\n",
       "      <th>22</th>\n",
       "      <td>2020-10-02</td>\n",
       "      <td>20624465</td>\n",
       "      <td>0.0174781</td>\n",
       "      <td>0.005079</td>\n",
       "    </tr>\n",
       "    <tr>\n",
       "      <th>23</th>\n",
       "      <td>2020-10-05</td>\n",
       "      <td>12430068</td>\n",
       "      <td>0.0173409</td>\n",
       "      <td>0.001475</td>\n",
       "    </tr>\n",
       "    <tr>\n",
       "      <th>24</th>\n",
       "      <td>2020-10-06</td>\n",
       "      <td>18380375</td>\n",
       "      <td>0.0163856</td>\n",
       "      <td>0.001799</td>\n",
       "    </tr>\n",
       "    <tr>\n",
       "      <th>...</th>\n",
       "      <td>...</td>\n",
       "      <td>...</td>\n",
       "      <td>...</td>\n",
       "      <td>...</td>\n",
       "    </tr>\n",
       "    <tr>\n",
       "      <th>246</th>\n",
       "      <td>2021-08-26</td>\n",
       "      <td>10177095</td>\n",
       "      <td>0.00880319</td>\n",
       "      <td>0.001904</td>\n",
       "    </tr>\n",
       "    <tr>\n",
       "      <th>247</th>\n",
       "      <td>2021-08-27</td>\n",
       "      <td>11442471</td>\n",
       "      <td>0.00865206</td>\n",
       "      <td>0.000434</td>\n",
       "    </tr>\n",
       "    <tr>\n",
       "      <th>248</th>\n",
       "      <td>2021-08-30</td>\n",
       "      <td>9032609</td>\n",
       "      <td>0.00860936</td>\n",
       "      <td>0.000066</td>\n",
       "    </tr>\n",
       "    <tr>\n",
       "      <th>249</th>\n",
       "      <td>2021-08-31</td>\n",
       "      <td>8654638</td>\n",
       "      <td>0.00844978</td>\n",
       "      <td>0.004858</td>\n",
       "    </tr>\n",
       "    <tr>\n",
       "      <th>250</th>\n",
       "      <td>2021-09-01</td>\n",
       "      <td>9426217</td>\n",
       "      <td>0.00836116</td>\n",
       "      <td>0.002350</td>\n",
       "    </tr>\n",
       "  </tbody>\n",
       "</table>\n",
       "<p>231 rows × 4 columns</p>\n",
       "</div>"
      ],
      "text/plain": [
       "           Date    Volume Avg20_Volatility  Auction_Log_Returns\n",
       "20   2020-09-30  19083581        0.0182034             0.001615\n",
       "21   2020-10-01  15528087        0.0179497             0.000706\n",
       "22   2020-10-02  20624465        0.0174781             0.005079\n",
       "23   2020-10-05  12430068        0.0173409             0.001475\n",
       "24   2020-10-06  18380375        0.0163856             0.001799\n",
       "..          ...       ...              ...                  ...\n",
       "246  2021-08-26  10177095       0.00880319             0.001904\n",
       "247  2021-08-27  11442471       0.00865206             0.000434\n",
       "248  2021-08-30   9032609       0.00860936             0.000066\n",
       "249  2021-08-31   8654638       0.00844978             0.004858\n",
       "250  2021-09-01   9426217       0.00836116             0.002350\n",
       "\n",
       "[231 rows x 4 columns]"
      ]
     },
     "execution_count": 131,
     "metadata": {},
     "output_type": "execute_result"
    }
   ],
   "source": [
    "# Simple linear regression without Anderson coefficient\n",
    "final_df_no_Anderson = pd.DataFrame({\n",
    "    'Date': dates_final,\n",
    "    'Volume': volumes,\n",
    "    'Avg20_Volatility': avg_20day_volatility_raw, \n",
    "    'Auction_Log_Returns': auction_log_returns\n",
    "})\n",
    "# final_df_no_Anderson = final_df_no_Anderson[np.isnan(final_df_no_Anderson['Avg20_Volatility']) == False]\n",
    "final_df_no_Anderson = final_df_no_Anderson[20:]\n",
    "final_df_no_Anderson"
   ]
  },
  {
   "cell_type": "code",
   "execution_count": 132,
   "metadata": {},
   "outputs": [
    {
     "data": {
      "text/plain": [
       "LinearRegression()"
      ]
     },
     "execution_count": 132,
     "metadata": {},
     "output_type": "execute_result"
    }
   ],
   "source": [
    "####################################\n",
    "# Linear Model without Anderson\n",
    "####################################\n",
    "\n",
    "from sklearn.linear_model import LinearRegression\n",
    "model_no_volatility = LinearRegression()\n",
    "model_no_volatility.fit(final_df_no_Anderson[['Volume','Avg20_Volatility']][:200], final_df_no_Anderson[['Auction_Log_Returns']][:200])"
   ]
  },
  {
   "cell_type": "code",
   "execution_count": 133,
   "metadata": {},
   "outputs": [
    {
     "name": "stdout",
     "output_type": "stream",
     "text": [
      "Within 1 confidence interval was 0.7096774193548387\n",
      "Within 2 confidence intervals was 0.9354838709677419\n",
      "Within 3 confidence intervals was 0.967741935483871\n"
     ]
    }
   ],
   "source": [
    "#######################################\n",
    "# Confidence Interval without Anderson\n",
    "#######################################\n",
    "\n",
    "y_pred_no_Anderson = model_no_volatility.predict(final_df_no_Anderson[['Volume','Avg20_Volatility']][200:])\n",
    "y_pred_var_no_Anderson = pd.DataFrame({'Date': final_df_no_Anderson['Date'][200:], 'pred_ratio': [np.exp(i[0]) for i in y_pred_no_Anderson]})\n",
    "\n",
    "# Rows with 3:50pm information\n",
    "apple_price_1550 = apple[apple['Local_Date_Time'].str.contains(\"15:50\")]\n",
    "\n",
    "# Merge the above two tables\n",
    "merged1 = apple_price_1550.merge(apple_auction, on='Date')\n",
    "merged2 = merged1.merge(y_pred_var_no_Anderson, on='Date')\n",
    "merged2['Predicted_Variance'] = merged2['Open']*merged2['pred_ratio'] - merged2['Open']\n",
    "merged2.loc[(merged2['Price']<merged2['Open']+merged2['Predicted_Variance']) & (merged2['Price']>=merged2['Open']-merged2['Predicted_Variance']), 'Within_1Interval'] = True \n",
    "merged2.loc[(merged2['Price']>=merged2['Open']+merged2['Predicted_Variance']) | (merged2['Price']<merged2['Open']-merged2['Predicted_Variance']), 'Within_1Interval'] = False\n",
    "merged2.loc[(merged2['Price']<merged2['Open']+2*merged2['Predicted_Variance']) & (merged2['Price']>=merged2['Open']-2*merged2['Predicted_Variance']), 'Within_2Interval'] = True \n",
    "merged2.loc[(merged2['Price']>=merged2['Open']+2*merged2['Predicted_Variance']) | (merged2['Price']<merged2['Open']-2*merged2['Predicted_Variance']), 'Within_2Interval'] = False\n",
    "merged2.loc[(merged2['Price']<merged2['Open']+3*merged2['Predicted_Variance']) & (merged2['Price']>=merged2['Open']-3*merged2['Predicted_Variance']), 'Within_3Interval'] = True \n",
    "merged2.loc[(merged2['Price']>=merged2['Open']+3*merged2['Predicted_Variance']) | (merged2['Price']<merged2['Open']-3*merged2['Predicted_Variance']), 'Within_3Interval'] = False\n",
    "\n",
    "print('Within 1 confidence interval was', merged2[merged2['Within_1Interval'] == True].shape[0] / merged2.shape[0])\n",
    "print('Within 2 confidence intervals was', merged2[merged2['Within_2Interval'] == True].shape[0] / merged2.shape[0])\n",
    "print('Within 3 confidence intervals was', merged2[merged2['Within_3Interval'] == True].shape[0] / merged2.shape[0])"
   ]
  },
  {
   "cell_type": "markdown",
   "metadata": {},
   "source": [
    "Without the Anderson model, it does not follow the normal distribution as closely."
   ]
  },
  {
   "cell_type": "code",
   "execution_count": 134,
   "metadata": {},
   "outputs": [
    {
     "data": {
      "text/plain": [
       "0.4755774772460896"
      ]
     },
     "execution_count": 134,
     "metadata": {},
     "output_type": "execute_result"
    }
   ],
   "source": [
    "np.mean(merged2['Predicted_Variance'])"
   ]
  },
  {
   "cell_type": "code",
   "execution_count": null,
   "metadata": {},
   "outputs": [],
   "source": []
  },
  {
   "cell_type": "code",
   "execution_count": 135,
   "metadata": {},
   "outputs": [
    {
     "name": "stdout",
     "output_type": "stream",
     "text": [
      "Model Coefficients: [[ 4.14138384e-11 -8.86131257e-01  5.63781754e+00]]\n",
      "Mean Absolute Error: 0.0009107676203521845\n",
      "Mean Squared Error: 1.3304000532263027e-06\n",
      "Coefficient of Determination: -0.1008531066725431\n"
     ]
    }
   ],
   "source": [
    "########################################\n",
    "# Linear Regression Output with Anderson\n",
    "########################################\n",
    "\n",
    "from sklearn.metrics import mean_squared_error, r2_score, mean_absolute_error\n",
    "# Printout relevant metrics\n",
    "print(\"Model Coefficients:\", model_volatility.coef_)\n",
    "print(\"Mean Absolute Error:\", mean_absolute_error(final_df[['Auction_Log_Returns']][200:], y_pred))\n",
    "print(\"Mean Squared Error:\", mean_squared_error(final_df[['Auction_Log_Returns']][200:], y_pred))\n",
    "print(\"Coefficient of Determination:\", r2_score(final_df[['Auction_Log_Returns']][200:], y_pred))"
   ]
  },
  {
   "cell_type": "code",
   "execution_count": null,
   "metadata": {},
   "outputs": [],
   "source": []
  },
  {
   "cell_type": "code",
   "execution_count": 136,
   "metadata": {},
   "outputs": [
    {
     "name": "stdout",
     "output_type": "stream",
     "text": [
      "Model Coefficients: [[ 4.03828712e-11 -8.47939463e-01 -2.02271655e-02  1.02985449e-04\n",
      "   5.52845842e+00]]\n",
      "Mean Absolute Error: 0.0009195158648748761\n",
      "Mean Squared Error: 1.331914656154614e-06\n",
      "Coefficient of Determination: -0.10210638032881159\n"
     ]
    }
   ],
   "source": [
    "########################################\n",
    "# Linear Regression Output with Anderson + QQQ\n",
    "########################################\n",
    "\n",
    "from sklearn.metrics import mean_squared_error, r2_score, mean_absolute_error\n",
    "# Printout relevant metrics\n",
    "print(\"Model Coefficients:\", model_volatility_qqq.coef_)\n",
    "print(\"Mean Absolute Error:\", mean_absolute_error(final_df[['Auction_Log_Returns']][200:], y_pred_qqq))\n",
    "print(\"Mean Squared Error:\", mean_squared_error(final_df[['Auction_Log_Returns']][200:], y_pred_qqq))\n",
    "print(\"Coefficient of Determination:\", r2_score(final_df[['Auction_Log_Returns']][200:], y_pred_qqq))"
   ]
  },
  {
   "cell_type": "code",
   "execution_count": 137,
   "metadata": {},
   "outputs": [
    {
     "data": {
      "image/png": "[encoded data removed]",
      "text/plain": [
       "<Figure size 432x288 with 1 Axes>"
      ]
     },
     "metadata": {
      "needs_background": "light"
     },
     "output_type": "display_data"
    }
   ],
   "source": [
    "import matplotlib.pyplot as plt\n",
    "\n",
    "plt.plot(np.array(final_df[['Auction_Log_Returns']][200:]))\n",
    "# plt.plot(y_pred_qqq)\n",
    "plt.plot(y_pred_no_Anderson)\n",
    "# plt.xlim([-3, 3])\n",
    "# plt.xlabel('Price Difference in $')\n",
    "# plt.ylabel('Freq between Sept 2020 and Aug 2021')\n",
    "# plt.title('Price Difference Between 3:50pm and Auction for MSFT')\n",
    "# plt.yticks(range(0, 11, 2))\n",
    "plt.show()"
   ]
  },
  {
   "cell_type": "code",
   "execution_count": 138,
   "metadata": {},
   "outputs": [
    {
     "data": {
      "image/png": "[encoded data removed]",
      "text/plain": [
       "<Figure size 432x288 with 1 Axes>"
      ]
     },
     "metadata": {
      "needs_background": "light"
     },
     "output_type": "display_data"
    }
   ],
   "source": [
    "plt.plot(np.array(final_df[['Auction_Log_Returns']][200:]))\n",
    "plt.plot(y_pred_ratio)\n",
    "plt.show()"
   ]
  },
  {
   "cell_type": "code",
   "execution_count": 140,
   "metadata": {},
   "outputs": [
    {
     "name": "stdout",
     "output_type": "stream",
     "text": [
      "-0.13968082265263293\n",
      "-0.5224590553227701\n"
     ]
    }
   ],
   "source": [
    "print(r2_score([i[0] for i in np.array(final_df[['Auction_Log_Returns']][200:])], [i for i in y_pred_ratio]))\n",
    "print(r2_score(auction_log_returns[220:], auction_log_returns_340350[220:]))\n",
    "\n",
    "# r2_score([1,2,3,4,5], [3,3,3,3,2])"
   ]
  },
  {
   "cell_type": "code",
   "execution_count": null,
   "metadata": {},
   "outputs": [],
   "source": []
  },
  {
   "cell_type": "code",
   "execution_count": 141,
   "metadata": {},
   "outputs": [
    {
     "name": "stdout",
     "output_type": "stream",
     "text": [
      "Model Coefficients: [[-2.70531084e-11 -7.42379687e-01 -9.83924470e-02  9.33760175e-04\n",
      "   4.82901192e+00  9.09255239e-03  1.63786631e-01]]\n",
      "Mean Absolute Error: 0.0009153332797567254\n",
      "Mean Squared Error: 1.3773240207324713e-06\n",
      "Coefficient of Determination: -0.13968082265263293\n"
     ]
    }
   ],
   "source": [
    "########################################\n",
    "# Linear Regression Output with Anderson + QQQ + ratio\n",
    "########################################\n",
    "\n",
    "from sklearn.metrics import mean_squared_error, r2_score, mean_absolute_error\n",
    "# Printout relevant metrics\n",
    "print(\"Model Coefficients:\", model_volatility_ratio.coef_)\n",
    "print(\"Mean Absolute Error:\", mean_absolute_error(final_df[['Auction_Log_Returns']][200:], y_pred_ratio))\n",
    "print(\"Mean Squared Error:\", mean_squared_error(final_df[['Auction_Log_Returns']][200:], y_pred_ratio))\n",
    "print(\"Coefficient of Determination:\", r2_score(final_df[['Auction_Log_Returns']][200:], y_pred_ratio))"
   ]
  },
  {
   "cell_type": "code",
   "execution_count": 142,
   "metadata": {},
   "outputs": [
    {
     "name": "stdout",
     "output_type": "stream",
     "text": [
      "Model Coefficients: [[4.35526652e-11 1.66760465e-01]]\n",
      "Mean Absolute Error: 0.0009439822201507722\n",
      "Mean Squared Error: 1.3707164890425442e-06\n",
      "Coefficient of Determination: -0.1342133530966494\n"
     ]
    }
   ],
   "source": [
    "###########################################\n",
    "# Linear Regression Output without Anderson\n",
    "###########################################\n",
    "\n",
    "from sklearn.metrics import mean_squared_error, r2_score, mean_absolute_error\n",
    "# Printout relevant metrics\n",
    "print(\"Model Coefficients:\", model_no_volatility.coef_)\n",
    "print(\"Mean Absolute Error:\", mean_absolute_error(final_df_no_Anderson[['Auction_Log_Returns']][200:], y_pred_no_Anderson))\n",
    "print(\"Mean Squared Error:\", mean_squared_error(final_df_no_Anderson[['Auction_Log_Returns']][200:], y_pred_no_Anderson))\n",
    "print(\"Coefficient of Determination:\", r2_score(final_df_no_Anderson[['Auction_Log_Returns']][200:], y_pred_no_Anderson))"
   ]
  },
  {
   "cell_type": "code",
   "execution_count": null,
   "metadata": {},
   "outputs": [],
   "source": []
  },
  {
   "cell_type": "code",
   "execution_count": null,
   "metadata": {},
   "outputs": [],
   "source": []
  },
  {
   "cell_type": "code",
   "execution_count": 143,
   "metadata": {},
   "outputs": [
    {
     "data": {
      "image/png": "[encoded data removed]",
      "text/plain": [
       "<Figure size 432x288 with 1 Axes>"
      ]
     },
     "metadata": {
      "needs_background": "light"
     },
     "output_type": "display_data"
    }
   ],
   "source": [
    "# Additional graphs\n",
    "\n",
    "import matplotlib.pyplot as plt\n",
    "\n",
    "plt.hist(merged1['Close'] - merged1['Price'], bins=100)\n",
    "plt.xlim([-3, 3])\n",
    "plt.xlabel('Price Difference in $')\n",
    "plt.ylabel('Freq between Sept 2020 and Aug 2021')\n",
    "plt.title('Price Difference Between 3:50pm and Auction for MSFT')\n",
    "plt.yticks(range(0, 11, 2))\n",
    "plt.show()"
   ]
  },
  {
   "cell_type": "code",
   "execution_count": null,
   "metadata": {},
   "outputs": [],
   "source": []
  }
 ],
 "metadata": {
  "celltoolbar": "Raw Cell Format",
  "kernelspec": {
   "display_name": "Python 3",
   "language": "python",
   "name": "python3"
  },
  "language_info": {
   "codemirror_mode": {
    "name": "ipython",
    "version": 3
   },
   "file_extension": ".py",
   "mimetype": "text/x-python",
   "name": "python",
   "nbconvert_exporter": "python",
   "pygments_lexer": "ipython3",
   "version": "3.8.5"
  }
 },
 "nbformat": 4,
 "nbformat_minor": 4
}
