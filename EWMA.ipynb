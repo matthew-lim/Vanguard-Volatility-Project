{
 "cells": [
  {
   "cell_type": "code",
   "execution_count": 1,
   "metadata": {},
   "outputs": [],
   "source": [
    "import pandas as pd\n",
    "import numpy as np"
   ]
  },
  {
   "cell_type": "code",
   "execution_count": 14,
   "metadata": {},
   "outputs": [
    {
     "data": {
      "text/html": [
       "<div>\n",
       "<style scoped>\n",
       "    .dataframe tbody tr th:only-of-type {\n",
       "        vertical-align: middle;\n",
       "    }\n",
       "\n",
       "    .dataframe tbody tr th {\n",
       "        vertical-align: top;\n",
       "    }\n",
       "\n",
       "    .dataframe thead th {\n",
       "        text-align: right;\n",
       "    }\n",
       "</style>\n",
       "<table border=\"1\" class=\"dataframe\">\n",
       "  <thead>\n",
       "    <tr style=\"text-align: right;\">\n",
       "      <th></th>\n",
       "      <th>Unnamed: 0</th>\n",
       "      <th>BarTime</th>\n",
       "      <th>Date</th>\n",
       "      <th>Time</th>\n",
       "      <th>RIC</th>\n",
       "      <th>Open</th>\n",
       "      <th>High</th>\n",
       "      <th>Low</th>\n",
       "      <th>Close</th>\n",
       "      <th>VWAP</th>\n",
       "      <th>NumberOfTrades</th>\n",
       "      <th>Volume</th>\n",
       "    </tr>\n",
       "  </thead>\n",
       "  <tbody>\n",
       "    <tr>\n",
       "      <th>98307</th>\n",
       "      <td>98307</td>\n",
       "      <td>2021-09-01 19:55:00+00:00</td>\n",
       "      <td>2021-09-01</td>\n",
       "      <td>15:55:00</td>\n",
       "      <td>AAPL.O</td>\n",
       "      <td>152.430</td>\n",
       "      <td>152.46</td>\n",
       "      <td>152.385</td>\n",
       "      <td>152.4400</td>\n",
       "      <td>152.428</td>\n",
       "      <td>2355</td>\n",
       "      <td>487520.0</td>\n",
       "    </tr>\n",
       "    <tr>\n",
       "      <th>98308</th>\n",
       "      <td>98308</td>\n",
       "      <td>2021-09-01 19:56:00+00:00</td>\n",
       "      <td>2021-09-01</td>\n",
       "      <td>15:56:00</td>\n",
       "      <td>AAPL.O</td>\n",
       "      <td>152.440</td>\n",
       "      <td>152.47</td>\n",
       "      <td>152.420</td>\n",
       "      <td>152.4400</td>\n",
       "      <td>152.445</td>\n",
       "      <td>2084</td>\n",
       "      <td>356602.0</td>\n",
       "    </tr>\n",
       "    <tr>\n",
       "      <th>98309</th>\n",
       "      <td>98309</td>\n",
       "      <td>2021-09-01 19:57:00+00:00</td>\n",
       "      <td>2021-09-01</td>\n",
       "      <td>15:57:00</td>\n",
       "      <td>AAPL.O</td>\n",
       "      <td>152.450</td>\n",
       "      <td>152.47</td>\n",
       "      <td>152.400</td>\n",
       "      <td>152.4600</td>\n",
       "      <td>152.438</td>\n",
       "      <td>1869</td>\n",
       "      <td>339385.0</td>\n",
       "    </tr>\n",
       "    <tr>\n",
       "      <th>98310</th>\n",
       "      <td>98310</td>\n",
       "      <td>2021-09-01 19:58:00+00:00</td>\n",
       "      <td>2021-09-01</td>\n",
       "      <td>15:58:00</td>\n",
       "      <td>AAPL.O</td>\n",
       "      <td>152.460</td>\n",
       "      <td>152.50</td>\n",
       "      <td>152.430</td>\n",
       "      <td>152.4801</td>\n",
       "      <td>152.461</td>\n",
       "      <td>2263</td>\n",
       "      <td>512189.0</td>\n",
       "    </tr>\n",
       "    <tr>\n",
       "      <th>98311</th>\n",
       "      <td>98311</td>\n",
       "      <td>2021-09-01 19:59:00+00:00</td>\n",
       "      <td>2021-09-01</td>\n",
       "      <td>15:59:00</td>\n",
       "      <td>AAPL.O</td>\n",
       "      <td>152.485</td>\n",
       "      <td>152.56</td>\n",
       "      <td>152.460</td>\n",
       "      <td>152.5400</td>\n",
       "      <td>152.501</td>\n",
       "      <td>4288</td>\n",
       "      <td>868164.0</td>\n",
       "    </tr>\n",
       "  </tbody>\n",
       "</table>\n",
       "</div>"
      ],
      "text/plain": [
       "       Unnamed: 0                    BarTime        Date      Time     RIC  \\\n",
       "98307       98307  2021-09-01 19:55:00+00:00  2021-09-01  15:55:00  AAPL.O   \n",
       "98308       98308  2021-09-01 19:56:00+00:00  2021-09-01  15:56:00  AAPL.O   \n",
       "98309       98309  2021-09-01 19:57:00+00:00  2021-09-01  15:57:00  AAPL.O   \n",
       "98310       98310  2021-09-01 19:58:00+00:00  2021-09-01  15:58:00  AAPL.O   \n",
       "98311       98311  2021-09-01 19:59:00+00:00  2021-09-01  15:59:00  AAPL.O   \n",
       "\n",
       "          Open    High      Low     Close     VWAP  NumberOfTrades    Volume  \n",
       "98307  152.430  152.46  152.385  152.4400  152.428            2355  487520.0  \n",
       "98308  152.440  152.47  152.420  152.4400  152.445            2084  356602.0  \n",
       "98309  152.450  152.47  152.400  152.4600  152.438            1869  339385.0  \n",
       "98310  152.460  152.50  152.430  152.4801  152.461            2263  512189.0  \n",
       "98311  152.485  152.56  152.460  152.5400  152.501            4288  868164.0  "
      ]
     },
     "execution_count": 14,
     "metadata": {},
     "output_type": "execute_result"
    }
   ],
   "source": [
    "df = pd.read_csv(\"cleaned_data.csv\")\n",
    "df_aapl = df[df['RIC']=='AAPL.O']\n",
    "df_aapl.tail()"
   ]
  },
  {
   "cell_type": "markdown",
   "metadata": {},
   "source": [
    "#### Calculating log returns"
   ]
  },
  {
   "cell_type": "code",
   "execution_count": 15,
   "metadata": {
    "collapsed": true,
    "jupyter": {
     "outputs_hidden": true
    }
   },
   "outputs": [
    {
     "name": "stderr",
     "output_type": "stream",
     "text": [
      "<ipython-input-15-087851d04d66>:1: SettingWithCopyWarning: \n",
      "A value is trying to be set on a copy of a slice from a DataFrame.\n",
      "Try using .loc[row_indexer,col_indexer] = value instead\n",
      "\n",
      "See the caveats in the documentation: https://pandas.pydata.org/pandas-docs/stable/user_guide/indexing.html#returning-a-view-versus-a-copy\n",
      "  df_aapl['returns'] = (np.log(df_aapl['Close'] / df_aapl['Close'].shift(-1)))\n"
     ]
    }
   ],
   "source": [
    "df_aapl['returns'] = (np.log(df_aapl['Close'] / df_aapl['Close'].shift(-1)))"
   ]
  },
  {
   "cell_type": "markdown",
   "metadata": {},
   "source": [
    "#### Creating dataframe for AAPL stock prices on 2020-09-01"
   ]
  },
  {
   "cell_type": "code",
   "execution_count": 22,
   "metadata": {},
   "outputs": [
    {
     "name": "stderr",
     "output_type": "stream",
     "text": [
      "<ipython-input-22-ae2a1428330c>:2: SettingWithCopyWarning: \n",
      "A value is trying to be set on a copy of a slice from a DataFrame.\n",
      "Try using .loc[row_indexer,col_indexer] = value instead\n",
      "\n",
      "See the caveats in the documentation: https://pandas.pydata.org/pandas-docs/stable/user_guide/indexing.html#returning-a-view-versus-a-copy\n",
      "  df_aapl_Day1['returns_sq'] = df_aapl_Day1['returns'].pow(2) # adding a returns^2 column which is required for the calculation of ewma\n"
     ]
    }
   ],
   "source": [
    "df_aapl_Day1 = df_aapl.head(390)\n",
    "df_aapl_Day1['returns_sq'] = df_aapl_Day1['returns'].pow(2) # adding a returns^2 column which is required for the calculation of ewma"
   ]
  },
  {
   "cell_type": "markdown",
   "metadata": {},
   "source": [
    "#### Calculating weights for each row using lambda = 0.94  "
   ]
  },
  {
   "cell_type": "code",
   "execution_count": 17,
   "metadata": {
    "collapsed": true,
    "jupyter": {
     "outputs_hidden": true
    }
   },
   "outputs": [
    {
     "name": "stderr",
     "output_type": "stream",
     "text": [
      "<ipython-input-17-2411e9a4a878>:1: SettingWithCopyWarning: \n",
      "A value is trying to be set on a copy of a slice from a DataFrame.\n",
      "Try using .loc[row_indexer,col_indexer] = value instead\n",
      "\n",
      "See the caveats in the documentation: https://pandas.pydata.org/pandas-docs/stable/user_guide/indexing.html#returning-a-view-versus-a-copy\n",
      "  df_aapl_Day1['weights'] = pd.Series(weights).values\n"
     ]
    }
   ],
   "source": [
    "df_aapl_Day1['weights'] = pd.Series(weights).values"
   ]
  },
  {
   "cell_type": "code",
   "execution_count": 18,
   "metadata": {},
   "outputs": [],
   "source": [
    "lambd = 0.94\n",
    "weights = []\n",
    "weight = 1 - lambd\n",
    "for i in range(390):\n",
    "    if i == 0:\n",
    "        weights.append(weight)\n",
    "    else:\n",
    "        weight = weight * lambd\n",
    "        weights.append(weight)"
   ]
  },
  {
   "cell_type": "code",
   "execution_count": 19,
   "metadata": {
    "collapsed": true,
    "jupyter": {
     "outputs_hidden": true
    }
   },
   "outputs": [
    {
     "name": "stderr",
     "output_type": "stream",
     "text": [
      "<ipython-input-19-49c8b4949729>:1: SettingWithCopyWarning: \n",
      "A value is trying to be set on a copy of a slice from a DataFrame.\n",
      "Try using .loc[row_indexer,col_indexer] = value instead\n",
      "\n",
      "See the caveats in the documentation: https://pandas.pydata.org/pandas-docs/stable/user_guide/indexing.html#returning-a-view-versus-a-copy\n",
      "  df_aapl_Day1['vol_ewm'] = df_aapl_Day1['weights'] * df_aapl_Day1['returns']\n"
     ]
    }
   ],
   "source": [
    "df_aapl_Day1['vol_ewm'] = df_aapl_Day1['weights'] * df_aapl_Day1['returns']"
   ]
  },
  {
   "cell_type": "markdown",
   "metadata": {},
   "source": [
    "#### Calculating final volitility for Day 1:"
   ]
  },
  {
   "cell_type": "code",
   "execution_count": 21,
   "metadata": {},
   "outputs": [
    {
     "name": "stdout",
     "output_type": "stream",
     "text": [
      "Volatility for Day 1 is: 0.00015130974259748028\n"
     ]
    }
   ],
   "source": [
    "ewma = np.sum(df_aapl_Day1['vol_ewm'])\n",
    "print(\"Volatility for Day 1 is:\", ewma)"
   ]
  },
  {
   "cell_type": "code",
   "execution_count": null,
   "metadata": {},
   "outputs": [],
   "source": []
  }
 ],
 "metadata": {
  "kernelspec": {
   "display_name": "Python 3",
   "language": "python",
   "name": "python3"
  },
  "language_info": {
   "codemirror_mode": {
    "name": "ipython",
    "version": 3
   },
   "file_extension": ".py",
   "mimetype": "text/x-python",
   "name": "python",
   "nbconvert_exporter": "python",
   "pygments_lexer": "ipython3",
   "version": "3.8.5"
  }
 },
 "nbformat": 4,
 "nbformat_minor": 4
}
